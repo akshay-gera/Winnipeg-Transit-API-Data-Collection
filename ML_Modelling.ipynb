{
 "cells": [
  {
   "cell_type": "code",
   "execution_count": 70,
   "id": "2a0490fe",
   "metadata": {},
   "outputs": [],
   "source": [
    "import pandas as pd\n",
    "import numpy as np \n",
    "import matplotlib.pyplot as plt\n",
    "from sklearn.model_selection import train_test_split\n",
    "from sklearn.cluster import KMeans\n",
    "import seaborn as sns; sns.set()\n",
    "import csv\n",
    "import statsmodels.api as sm\n",
    "import statsmodels.formula.api as smf\n",
    "import tensorflow\n",
    "tensorflow.random.set_seed(1)\n",
    "from tensorflow.python.keras.layers import Dense\n",
    "from tensorflow.keras.layers import Dropout\n",
    "from tensorflow.python.keras.models import Sequential\n",
    "from tensorflow.python.keras.wrappers.scikit_learn import KerasRegressor"
   ]
  },
  {
   "cell_type": "code",
   "execution_count": 2,
   "id": "8efdc704",
   "metadata": {},
   "outputs": [],
   "source": [
    "from sklearn.neighbors import KNeighborsClassifier\n",
    "from sklearn.preprocessing import StandardScaler\n"
   ]
  },
  {
   "cell_type": "code",
   "execution_count": 3,
   "id": "7a781b28",
   "metadata": {},
   "outputs": [
    {
     "data": {
      "text/html": [
       "<div>\n",
       "<style scoped>\n",
       "    .dataframe tbody tr th:only-of-type {\n",
       "        vertical-align: middle;\n",
       "    }\n",
       "\n",
       "    .dataframe tbody tr th {\n",
       "        vertical-align: top;\n",
       "    }\n",
       "\n",
       "    .dataframe thead th {\n",
       "        text-align: right;\n",
       "    }\n",
       "</style>\n",
       "<table border=\"1\" class=\"dataframe\">\n",
       "  <thead>\n",
       "    <tr style=\"text-align: right;\">\n",
       "      <th></th>\n",
       "      <th>Stop_Number</th>\n",
       "      <th>direction</th>\n",
       "      <th>side</th>\n",
       "      <th>street.type</th>\n",
       "      <th>centre.geographic.latitude</th>\n",
       "      <th>centre.geographic.longitude</th>\n",
       "      <th>Variants_Serviced_Count</th>\n",
       "      <th>Number_of_Stoppages</th>\n",
       "      <th>Types_of_Features_Count</th>\n",
       "      <th>Route_Number</th>\n",
       "      <th>Variants_Count</th>\n",
       "      <th>coverage</th>\n",
       "      <th>bus.bike-rack</th>\n",
       "      <th>Delay_Time</th>\n",
       "      <th>IsDelayed</th>\n",
       "    </tr>\n",
       "  </thead>\n",
       "  <tbody>\n",
       "    <tr>\n",
       "      <th>0</th>\n",
       "      <td>10615.0</td>\n",
       "      <td>Eastbound</td>\n",
       "      <td>Nearside</td>\n",
       "      <td>Avenue</td>\n",
       "      <td>49.89232</td>\n",
       "      <td>-97.14152</td>\n",
       "      <td>30.0</td>\n",
       "      <td>57</td>\n",
       "      <td>3.0</td>\n",
       "      <td>45.0</td>\n",
       "      <td>3</td>\n",
       "      <td>regular</td>\n",
       "      <td>False</td>\n",
       "      <td>0.0</td>\n",
       "      <td>False</td>\n",
       "    </tr>\n",
       "    <tr>\n",
       "      <th>1</th>\n",
       "      <td>10615.0</td>\n",
       "      <td>Eastbound</td>\n",
       "      <td>Nearside</td>\n",
       "      <td>Avenue</td>\n",
       "      <td>49.89232</td>\n",
       "      <td>-97.14152</td>\n",
       "      <td>30.0</td>\n",
       "      <td>57</td>\n",
       "      <td>3.0</td>\n",
       "      <td>45.0</td>\n",
       "      <td>3</td>\n",
       "      <td>regular</td>\n",
       "      <td>False</td>\n",
       "      <td>0.0</td>\n",
       "      <td>False</td>\n",
       "    </tr>\n",
       "    <tr>\n",
       "      <th>2</th>\n",
       "      <td>10615.0</td>\n",
       "      <td>Eastbound</td>\n",
       "      <td>Nearside</td>\n",
       "      <td>Avenue</td>\n",
       "      <td>49.89232</td>\n",
       "      <td>-97.14152</td>\n",
       "      <td>30.0</td>\n",
       "      <td>57</td>\n",
       "      <td>3.0</td>\n",
       "      <td>45.0</td>\n",
       "      <td>3</td>\n",
       "      <td>regular</td>\n",
       "      <td>False</td>\n",
       "      <td>0.0</td>\n",
       "      <td>False</td>\n",
       "    </tr>\n",
       "    <tr>\n",
       "      <th>3</th>\n",
       "      <td>10615.0</td>\n",
       "      <td>Eastbound</td>\n",
       "      <td>Nearside</td>\n",
       "      <td>Avenue</td>\n",
       "      <td>49.89232</td>\n",
       "      <td>-97.14152</td>\n",
       "      <td>30.0</td>\n",
       "      <td>57</td>\n",
       "      <td>3.0</td>\n",
       "      <td>45.0</td>\n",
       "      <td>3</td>\n",
       "      <td>regular</td>\n",
       "      <td>False</td>\n",
       "      <td>0.0</td>\n",
       "      <td>False</td>\n",
       "    </tr>\n",
       "    <tr>\n",
       "      <th>4</th>\n",
       "      <td>10615.0</td>\n",
       "      <td>Eastbound</td>\n",
       "      <td>Nearside</td>\n",
       "      <td>Avenue</td>\n",
       "      <td>49.89232</td>\n",
       "      <td>-97.14152</td>\n",
       "      <td>30.0</td>\n",
       "      <td>57</td>\n",
       "      <td>3.0</td>\n",
       "      <td>45.0</td>\n",
       "      <td>3</td>\n",
       "      <td>regular</td>\n",
       "      <td>False</td>\n",
       "      <td>0.0</td>\n",
       "      <td>False</td>\n",
       "    </tr>\n",
       "    <tr>\n",
       "      <th>...</th>\n",
       "      <td>...</td>\n",
       "      <td>...</td>\n",
       "      <td>...</td>\n",
       "      <td>...</td>\n",
       "      <td>...</td>\n",
       "      <td>...</td>\n",
       "      <td>...</td>\n",
       "      <td>...</td>\n",
       "      <td>...</td>\n",
       "      <td>...</td>\n",
       "      <td>...</td>\n",
       "      <td>...</td>\n",
       "      <td>...</td>\n",
       "      <td>...</td>\n",
       "      <td>...</td>\n",
       "    </tr>\n",
       "    <tr>\n",
       "      <th>806410</th>\n",
       "      <td>20439.0</td>\n",
       "      <td>Southbound</td>\n",
       "      <td>Nearside Opposite</td>\n",
       "      <td>Boulevard</td>\n",
       "      <td>49.89419</td>\n",
       "      <td>-97.31560</td>\n",
       "      <td>1.0</td>\n",
       "      <td>72</td>\n",
       "      <td>0.0</td>\n",
       "      <td>83.0</td>\n",
       "      <td>6</td>\n",
       "      <td>regular</td>\n",
       "      <td>True</td>\n",
       "      <td>0.0</td>\n",
       "      <td>False</td>\n",
       "    </tr>\n",
       "    <tr>\n",
       "      <th>806411</th>\n",
       "      <td>20439.0</td>\n",
       "      <td>Southbound</td>\n",
       "      <td>Nearside Opposite</td>\n",
       "      <td>Boulevard</td>\n",
       "      <td>49.89419</td>\n",
       "      <td>-97.31560</td>\n",
       "      <td>1.0</td>\n",
       "      <td>72</td>\n",
       "      <td>0.0</td>\n",
       "      <td>83.0</td>\n",
       "      <td>6</td>\n",
       "      <td>regular</td>\n",
       "      <td>False</td>\n",
       "      <td>0.0</td>\n",
       "      <td>False</td>\n",
       "    </tr>\n",
       "    <tr>\n",
       "      <th>806412</th>\n",
       "      <td>20439.0</td>\n",
       "      <td>Southbound</td>\n",
       "      <td>Nearside Opposite</td>\n",
       "      <td>Boulevard</td>\n",
       "      <td>49.89419</td>\n",
       "      <td>-97.31560</td>\n",
       "      <td>1.0</td>\n",
       "      <td>72</td>\n",
       "      <td>0.0</td>\n",
       "      <td>83.0</td>\n",
       "      <td>6</td>\n",
       "      <td>regular</td>\n",
       "      <td>False</td>\n",
       "      <td>0.0</td>\n",
       "      <td>False</td>\n",
       "    </tr>\n",
       "    <tr>\n",
       "      <th>806413</th>\n",
       "      <td>20439.0</td>\n",
       "      <td>Southbound</td>\n",
       "      <td>Nearside Opposite</td>\n",
       "      <td>Boulevard</td>\n",
       "      <td>49.89419</td>\n",
       "      <td>-97.31560</td>\n",
       "      <td>1.0</td>\n",
       "      <td>72</td>\n",
       "      <td>0.0</td>\n",
       "      <td>83.0</td>\n",
       "      <td>6</td>\n",
       "      <td>regular</td>\n",
       "      <td>False</td>\n",
       "      <td>0.0</td>\n",
       "      <td>False</td>\n",
       "    </tr>\n",
       "    <tr>\n",
       "      <th>806414</th>\n",
       "      <td>20439.0</td>\n",
       "      <td>Southbound</td>\n",
       "      <td>Nearside Opposite</td>\n",
       "      <td>Boulevard</td>\n",
       "      <td>49.89419</td>\n",
       "      <td>-97.31560</td>\n",
       "      <td>1.0</td>\n",
       "      <td>72</td>\n",
       "      <td>0.0</td>\n",
       "      <td>83.0</td>\n",
       "      <td>6</td>\n",
       "      <td>regular</td>\n",
       "      <td>True</td>\n",
       "      <td>0.0</td>\n",
       "      <td>False</td>\n",
       "    </tr>\n",
       "  </tbody>\n",
       "</table>\n",
       "<p>806415 rows × 15 columns</p>\n",
       "</div>"
      ],
      "text/plain": [
       "        Stop_Number   direction               side street.type  \\\n",
       "0           10615.0   Eastbound           Nearside      Avenue   \n",
       "1           10615.0   Eastbound           Nearside      Avenue   \n",
       "2           10615.0   Eastbound           Nearside      Avenue   \n",
       "3           10615.0   Eastbound           Nearside      Avenue   \n",
       "4           10615.0   Eastbound           Nearside      Avenue   \n",
       "...             ...         ...                ...         ...   \n",
       "806410      20439.0  Southbound  Nearside Opposite   Boulevard   \n",
       "806411      20439.0  Southbound  Nearside Opposite   Boulevard   \n",
       "806412      20439.0  Southbound  Nearside Opposite   Boulevard   \n",
       "806413      20439.0  Southbound  Nearside Opposite   Boulevard   \n",
       "806414      20439.0  Southbound  Nearside Opposite   Boulevard   \n",
       "\n",
       "        centre.geographic.latitude  centre.geographic.longitude  \\\n",
       "0                         49.89232                    -97.14152   \n",
       "1                         49.89232                    -97.14152   \n",
       "2                         49.89232                    -97.14152   \n",
       "3                         49.89232                    -97.14152   \n",
       "4                         49.89232                    -97.14152   \n",
       "...                            ...                          ...   \n",
       "806410                    49.89419                    -97.31560   \n",
       "806411                    49.89419                    -97.31560   \n",
       "806412                    49.89419                    -97.31560   \n",
       "806413                    49.89419                    -97.31560   \n",
       "806414                    49.89419                    -97.31560   \n",
       "\n",
       "        Variants_Serviced_Count  Number_of_Stoppages  Types_of_Features_Count  \\\n",
       "0                          30.0                   57                      3.0   \n",
       "1                          30.0                   57                      3.0   \n",
       "2                          30.0                   57                      3.0   \n",
       "3                          30.0                   57                      3.0   \n",
       "4                          30.0                   57                      3.0   \n",
       "...                         ...                  ...                      ...   \n",
       "806410                      1.0                   72                      0.0   \n",
       "806411                      1.0                   72                      0.0   \n",
       "806412                      1.0                   72                      0.0   \n",
       "806413                      1.0                   72                      0.0   \n",
       "806414                      1.0                   72                      0.0   \n",
       "\n",
       "        Route_Number  Variants_Count coverage  bus.bike-rack  Delay_Time  \\\n",
       "0               45.0               3  regular          False         0.0   \n",
       "1               45.0               3  regular          False         0.0   \n",
       "2               45.0               3  regular          False         0.0   \n",
       "3               45.0               3  regular          False         0.0   \n",
       "4               45.0               3  regular          False         0.0   \n",
       "...              ...             ...      ...            ...         ...   \n",
       "806410          83.0               6  regular           True         0.0   \n",
       "806411          83.0               6  regular          False         0.0   \n",
       "806412          83.0               6  regular          False         0.0   \n",
       "806413          83.0               6  regular          False         0.0   \n",
       "806414          83.0               6  regular           True         0.0   \n",
       "\n",
       "        IsDelayed  \n",
       "0           False  \n",
       "1           False  \n",
       "2           False  \n",
       "3           False  \n",
       "4           False  \n",
       "...           ...  \n",
       "806410      False  \n",
       "806411      False  \n",
       "806412      False  \n",
       "806413      False  \n",
       "806414      False  \n",
       "\n",
       "[806415 rows x 15 columns]"
      ]
     },
     "execution_count": 3,
     "metadata": {},
     "output_type": "execute_result"
    }
   ],
   "source": [
    "df = pd.read_csv('Data_For_ML.csv')\n",
    "df"
   ]
  },
  {
   "cell_type": "code",
   "execution_count": 4,
   "id": "84e19faa",
   "metadata": {},
   "outputs": [],
   "source": [
    "# Setting the features\n",
    "\n",
    "X = df[['Stop_Number' ,'centre.geographic.latitude', 'centre.geographic.longitude']]"
   ]
  },
  {
   "cell_type": "code",
   "execution_count": 5,
   "id": "59c38248",
   "metadata": {},
   "outputs": [
    {
     "data": {
      "image/png": "[encoded data removed]",
      "text/plain": [
       "<Figure size 432x288 with 1 Axes>"
      ]
     },
     "metadata": {},
     "output_type": "display_data"
    }
   ],
   "source": [
    "K_clusters = range(1,10)\n",
    "kmeans = [KMeans(n_clusters=i) for i in K_clusters]\n",
    "Y_axis = df[['centre.geographic.latitude']]\n",
    "X_axis = df[['centre.geographic.longitude']]\n",
    "score = [kmeans[i].fit(Y_axis).score(Y_axis) for i in range(len(kmeans))]\n",
    "# Visualize\n",
    "plt.plot(K_clusters, score)\n",
    "plt.xlabel('Number of Clusters')\n",
    "plt.ylabel('Score')\n",
    "plt.title('Elbow Curve')\n",
    "plt.show()"
   ]
  },
  {
   "cell_type": "code",
   "execution_count": 6,
   "id": "d4c65bbe",
   "metadata": {},
   "outputs": [
    {
     "name": "stderr",
     "output_type": "stream",
     "text": [
      "C:\\Users\\AKSHAY~1\\AppData\\Local\\Temp/ipykernel_10412/2880995085.py:3: SettingWithCopyWarning: \n",
      "A value is trying to be set on a copy of a slice from a DataFrame.\n",
      "Try using .loc[row_indexer,col_indexer] = value instead\n",
      "\n",
      "See the caveats in the documentation: https://pandas.pydata.org/pandas-docs/stable/user_guide/indexing.html#returning-a-view-versus-a-copy\n",
      "  X['cluster_label'] = kmeans.fit_predict(X[X.columns[1:3]])\n"
     ]
    },
    {
     "data": {
      "text/html": [
       "<div>\n",
       "<style scoped>\n",
       "    .dataframe tbody tr th:only-of-type {\n",
       "        vertical-align: middle;\n",
       "    }\n",
       "\n",
       "    .dataframe tbody tr th {\n",
       "        vertical-align: top;\n",
       "    }\n",
       "\n",
       "    .dataframe thead th {\n",
       "        text-align: right;\n",
       "    }\n",
       "</style>\n",
       "<table border=\"1\" class=\"dataframe\">\n",
       "  <thead>\n",
       "    <tr style=\"text-align: right;\">\n",
       "      <th></th>\n",
       "      <th>Stop_Number</th>\n",
       "      <th>centre.geographic.latitude</th>\n",
       "      <th>centre.geographic.longitude</th>\n",
       "      <th>cluster_label</th>\n",
       "    </tr>\n",
       "  </thead>\n",
       "  <tbody>\n",
       "    <tr>\n",
       "      <th>0</th>\n",
       "      <td>10615.0</td>\n",
       "      <td>49.89232</td>\n",
       "      <td>-97.14152</td>\n",
       "      <td>1</td>\n",
       "    </tr>\n",
       "    <tr>\n",
       "      <th>1</th>\n",
       "      <td>10615.0</td>\n",
       "      <td>49.89232</td>\n",
       "      <td>-97.14152</td>\n",
       "      <td>1</td>\n",
       "    </tr>\n",
       "    <tr>\n",
       "      <th>2</th>\n",
       "      <td>10615.0</td>\n",
       "      <td>49.89232</td>\n",
       "      <td>-97.14152</td>\n",
       "      <td>1</td>\n",
       "    </tr>\n",
       "    <tr>\n",
       "      <th>3</th>\n",
       "      <td>10615.0</td>\n",
       "      <td>49.89232</td>\n",
       "      <td>-97.14152</td>\n",
       "      <td>1</td>\n",
       "    </tr>\n",
       "    <tr>\n",
       "      <th>4</th>\n",
       "      <td>10615.0</td>\n",
       "      <td>49.89232</td>\n",
       "      <td>-97.14152</td>\n",
       "      <td>1</td>\n",
       "    </tr>\n",
       "    <tr>\n",
       "      <th>5</th>\n",
       "      <td>10615.0</td>\n",
       "      <td>49.89232</td>\n",
       "      <td>-97.14152</td>\n",
       "      <td>1</td>\n",
       "    </tr>\n",
       "    <tr>\n",
       "      <th>6</th>\n",
       "      <td>10615.0</td>\n",
       "      <td>49.89232</td>\n",
       "      <td>-97.14152</td>\n",
       "      <td>1</td>\n",
       "    </tr>\n",
       "    <tr>\n",
       "      <th>7</th>\n",
       "      <td>10615.0</td>\n",
       "      <td>49.89232</td>\n",
       "      <td>-97.14152</td>\n",
       "      <td>1</td>\n",
       "    </tr>\n",
       "    <tr>\n",
       "      <th>8</th>\n",
       "      <td>10615.0</td>\n",
       "      <td>49.89232</td>\n",
       "      <td>-97.14152</td>\n",
       "      <td>1</td>\n",
       "    </tr>\n",
       "    <tr>\n",
       "      <th>9</th>\n",
       "      <td>10615.0</td>\n",
       "      <td>49.89232</td>\n",
       "      <td>-97.14152</td>\n",
       "      <td>1</td>\n",
       "    </tr>\n",
       "  </tbody>\n",
       "</table>\n",
       "</div>"
      ],
      "text/plain": [
       "   Stop_Number  centre.geographic.latitude  centre.geographic.longitude  \\\n",
       "0      10615.0                    49.89232                    -97.14152   \n",
       "1      10615.0                    49.89232                    -97.14152   \n",
       "2      10615.0                    49.89232                    -97.14152   \n",
       "3      10615.0                    49.89232                    -97.14152   \n",
       "4      10615.0                    49.89232                    -97.14152   \n",
       "5      10615.0                    49.89232                    -97.14152   \n",
       "6      10615.0                    49.89232                    -97.14152   \n",
       "7      10615.0                    49.89232                    -97.14152   \n",
       "8      10615.0                    49.89232                    -97.14152   \n",
       "9      10615.0                    49.89232                    -97.14152   \n",
       "\n",
       "   cluster_label  \n",
       "0              1  \n",
       "1              1  \n",
       "2              1  \n",
       "3              1  \n",
       "4              1  \n",
       "5              1  \n",
       "6              1  \n",
       "7              1  \n",
       "8              1  \n",
       "9              1  "
      ]
     },
     "execution_count": 6,
     "metadata": {},
     "output_type": "execute_result"
    }
   ],
   "source": [
    "kmeans = KMeans(n_clusters = 3, init ='k-means++')\n",
    "kmeans.fit(X[X.columns[1:3]]) # Compute k-means clustering.\n",
    "X['cluster_label'] = kmeans.fit_predict(X[X.columns[1:3]])\n",
    "centers = kmeans.cluster_centers_ # Coordinates of cluster centers.\n",
    "labels = kmeans.predict(X[X.columns[1:3]]) # Labels of each point\n",
    "X.head(10)"
   ]
  },
  {
   "cell_type": "code",
   "execution_count": 7,
   "id": "a1cbb88e",
   "metadata": {},
   "outputs": [
    {
     "name": "stderr",
     "output_type": "stream",
     "text": [
      "C:\\Users\\AKSHAY~1\\AppData\\Local\\Temp/ipykernel_10412/4132205377.py:3: SettingWithCopyWarning: \n",
      "A value is trying to be set on a copy of a slice from a DataFrame.\n",
      "Try using .loc[row_indexer,col_indexer] = value instead\n",
      "\n",
      "See the caveats in the documentation: https://pandas.pydata.org/pandas-docs/stable/user_guide/indexing.html#returning-a-view-versus-a-copy\n",
      "  X['cluster_label'] = kmeans.fit_predict(X[X.columns[1:3]])\n"
     ]
    },
    {
     "data": {
      "text/html": [
       "<div>\n",
       "<style scoped>\n",
       "    .dataframe tbody tr th:only-of-type {\n",
       "        vertical-align: middle;\n",
       "    }\n",
       "\n",
       "    .dataframe tbody tr th {\n",
       "        vertical-align: top;\n",
       "    }\n",
       "\n",
       "    .dataframe thead th {\n",
       "        text-align: right;\n",
       "    }\n",
       "</style>\n",
       "<table border=\"1\" class=\"dataframe\">\n",
       "  <thead>\n",
       "    <tr style=\"text-align: right;\">\n",
       "      <th></th>\n",
       "      <th>Stop_Number</th>\n",
       "      <th>centre.geographic.latitude</th>\n",
       "      <th>centre.geographic.longitude</th>\n",
       "      <th>cluster_label</th>\n",
       "    </tr>\n",
       "  </thead>\n",
       "  <tbody>\n",
       "    <tr>\n",
       "      <th>0</th>\n",
       "      <td>10615.0</td>\n",
       "      <td>49.89232</td>\n",
       "      <td>-97.14152</td>\n",
       "      <td>1</td>\n",
       "    </tr>\n",
       "    <tr>\n",
       "      <th>1</th>\n",
       "      <td>10615.0</td>\n",
       "      <td>49.89232</td>\n",
       "      <td>-97.14152</td>\n",
       "      <td>1</td>\n",
       "    </tr>\n",
       "    <tr>\n",
       "      <th>2</th>\n",
       "      <td>10615.0</td>\n",
       "      <td>49.89232</td>\n",
       "      <td>-97.14152</td>\n",
       "      <td>1</td>\n",
       "    </tr>\n",
       "    <tr>\n",
       "      <th>3</th>\n",
       "      <td>10615.0</td>\n",
       "      <td>49.89232</td>\n",
       "      <td>-97.14152</td>\n",
       "      <td>1</td>\n",
       "    </tr>\n",
       "    <tr>\n",
       "      <th>4</th>\n",
       "      <td>10615.0</td>\n",
       "      <td>49.89232</td>\n",
       "      <td>-97.14152</td>\n",
       "      <td>1</td>\n",
       "    </tr>\n",
       "    <tr>\n",
       "      <th>...</th>\n",
       "      <td>...</td>\n",
       "      <td>...</td>\n",
       "      <td>...</td>\n",
       "      <td>...</td>\n",
       "    </tr>\n",
       "    <tr>\n",
       "      <th>806410</th>\n",
       "      <td>20439.0</td>\n",
       "      <td>49.89419</td>\n",
       "      <td>-97.31560</td>\n",
       "      <td>1</td>\n",
       "    </tr>\n",
       "    <tr>\n",
       "      <th>806411</th>\n",
       "      <td>20439.0</td>\n",
       "      <td>49.89419</td>\n",
       "      <td>-97.31560</td>\n",
       "      <td>1</td>\n",
       "    </tr>\n",
       "    <tr>\n",
       "      <th>806412</th>\n",
       "      <td>20439.0</td>\n",
       "      <td>49.89419</td>\n",
       "      <td>-97.31560</td>\n",
       "      <td>1</td>\n",
       "    </tr>\n",
       "    <tr>\n",
       "      <th>806413</th>\n",
       "      <td>20439.0</td>\n",
       "      <td>49.89419</td>\n",
       "      <td>-97.31560</td>\n",
       "      <td>1</td>\n",
       "    </tr>\n",
       "    <tr>\n",
       "      <th>806414</th>\n",
       "      <td>20439.0</td>\n",
       "      <td>49.89419</td>\n",
       "      <td>-97.31560</td>\n",
       "      <td>1</td>\n",
       "    </tr>\n",
       "  </tbody>\n",
       "</table>\n",
       "<p>806415 rows × 4 columns</p>\n",
       "</div>"
      ],
      "text/plain": [
       "        Stop_Number  centre.geographic.latitude  centre.geographic.longitude  \\\n",
       "0           10615.0                    49.89232                    -97.14152   \n",
       "1           10615.0                    49.89232                    -97.14152   \n",
       "2           10615.0                    49.89232                    -97.14152   \n",
       "3           10615.0                    49.89232                    -97.14152   \n",
       "4           10615.0                    49.89232                    -97.14152   \n",
       "...             ...                         ...                          ...   \n",
       "806410      20439.0                    49.89419                    -97.31560   \n",
       "806411      20439.0                    49.89419                    -97.31560   \n",
       "806412      20439.0                    49.89419                    -97.31560   \n",
       "806413      20439.0                    49.89419                    -97.31560   \n",
       "806414      20439.0                    49.89419                    -97.31560   \n",
       "\n",
       "        cluster_label  \n",
       "0                   1  \n",
       "1                   1  \n",
       "2                   1  \n",
       "3                   1  \n",
       "4                   1  \n",
       "...               ...  \n",
       "806410              1  \n",
       "806411              1  \n",
       "806412              1  \n",
       "806413              1  \n",
       "806414              1  \n",
       "\n",
       "[806415 rows x 4 columns]"
      ]
     },
     "execution_count": 7,
     "metadata": {},
     "output_type": "execute_result"
    }
   ],
   "source": [
    "kmeans = KMeans(n_clusters = 2, init ='k-means++')\n",
    "kmeans.fit(X[X.columns[1:3]]) # Compute k-means clustering.\n",
    "X['cluster_label'] = kmeans.fit_predict(X[X.columns[1:3]])\n",
    "centers = kmeans.cluster_centers_ # Coordinates of cluster centers.\n",
    "labels = kmeans.predict(X[X.columns[1:3]]) # Labels of each point\n",
    "X"
   ]
  },
  {
   "cell_type": "code",
   "execution_count": 8,
   "id": "c2420019",
   "metadata": {},
   "outputs": [
    {
     "data": {
      "text/plain": [
       "<matplotlib.collections.PathCollection at 0x28281004a60>"
      ]
     },
     "execution_count": 8,
     "metadata": {},
     "output_type": "execute_result"
    },
    {
     "data": {
      "image/png": "[encoded data removed]",
      "text/plain": [
       "<Figure size 432x288 with 2 Axes>"
      ]
     },
     "metadata": {},
     "output_type": "display_data"
    }
   ],
   "source": [
    "X.plot.scatter(x = 'centre.geographic.latitude', y = 'centre.geographic.longitude', c=labels, s=50, cmap='viridis')\n",
    "plt.scatter(centers[:, 0], centers[:, 1], c='black', s=200, alpha=0.5)"
   ]
  },
  {
   "cell_type": "code",
   "execution_count": 9,
   "id": "8e3a703b",
   "metadata": {},
   "outputs": [],
   "source": [
    "#X.to_csv('Test_Clustering.csv', index=False)"
   ]
  },
  {
   "cell_type": "code",
   "execution_count": 10,
   "id": "0b983500",
   "metadata": {},
   "outputs": [
    {
     "name": "stderr",
     "output_type": "stream",
     "text": [
      "C:\\Users\\AKSHAY~1\\AppData\\Local\\Temp/ipykernel_10412/1079025902.py:3: SettingWithCopyWarning: \n",
      "A value is trying to be set on a copy of a slice from a DataFrame.\n",
      "Try using .loc[row_indexer,col_indexer] = value instead\n",
      "\n",
      "See the caveats in the documentation: https://pandas.pydata.org/pandas-docs/stable/user_guide/indexing.html#returning-a-view-versus-a-copy\n",
      "  X['cluster_label'] = X['cluster_label'].replace(0,'Eastside')\n",
      "C:\\Users\\AKSHAY~1\\AppData\\Local\\Temp/ipykernel_10412/1079025902.py:4: SettingWithCopyWarning: \n",
      "A value is trying to be set on a copy of a slice from a DataFrame.\n",
      "Try using .loc[row_indexer,col_indexer] = value instead\n",
      "\n",
      "See the caveats in the documentation: https://pandas.pydata.org/pandas-docs/stable/user_guide/indexing.html#returning-a-view-versus-a-copy\n",
      "  X['cluster_label'] = X['cluster_label'].replace(1,'Westside')\n",
      "D:\\Uwinnipeg\\Anaconda\\lib\\site-packages\\pandas\\core\\frame.py:5039: SettingWithCopyWarning: \n",
      "A value is trying to be set on a copy of a slice from a DataFrame\n",
      "\n",
      "See the caveats in the documentation: https://pandas.pydata.org/pandas-docs/stable/user_guide/indexing.html#returning-a-view-versus-a-copy\n",
      "  return super().rename(\n"
     ]
    },
    {
     "data": {
      "text/html": [
       "<div>\n",
       "<style scoped>\n",
       "    .dataframe tbody tr th:only-of-type {\n",
       "        vertical-align: middle;\n",
       "    }\n",
       "\n",
       "    .dataframe tbody tr th {\n",
       "        vertical-align: top;\n",
       "    }\n",
       "\n",
       "    .dataframe thead th {\n",
       "        text-align: right;\n",
       "    }\n",
       "</style>\n",
       "<table border=\"1\" class=\"dataframe\">\n",
       "  <thead>\n",
       "    <tr style=\"text-align: right;\">\n",
       "      <th></th>\n",
       "      <th>Stop_Number</th>\n",
       "      <th>centre.geographic.latitude</th>\n",
       "      <th>centre.geographic.longitude</th>\n",
       "      <th>Stop_Location</th>\n",
       "    </tr>\n",
       "  </thead>\n",
       "  <tbody>\n",
       "    <tr>\n",
       "      <th>0</th>\n",
       "      <td>10615.0</td>\n",
       "      <td>49.89232</td>\n",
       "      <td>-97.14152</td>\n",
       "      <td>Westside</td>\n",
       "    </tr>\n",
       "    <tr>\n",
       "      <th>1</th>\n",
       "      <td>10615.0</td>\n",
       "      <td>49.89232</td>\n",
       "      <td>-97.14152</td>\n",
       "      <td>Westside</td>\n",
       "    </tr>\n",
       "    <tr>\n",
       "      <th>2</th>\n",
       "      <td>10615.0</td>\n",
       "      <td>49.89232</td>\n",
       "      <td>-97.14152</td>\n",
       "      <td>Westside</td>\n",
       "    </tr>\n",
       "    <tr>\n",
       "      <th>3</th>\n",
       "      <td>10615.0</td>\n",
       "      <td>49.89232</td>\n",
       "      <td>-97.14152</td>\n",
       "      <td>Westside</td>\n",
       "    </tr>\n",
       "    <tr>\n",
       "      <th>4</th>\n",
       "      <td>10615.0</td>\n",
       "      <td>49.89232</td>\n",
       "      <td>-97.14152</td>\n",
       "      <td>Westside</td>\n",
       "    </tr>\n",
       "    <tr>\n",
       "      <th>...</th>\n",
       "      <td>...</td>\n",
       "      <td>...</td>\n",
       "      <td>...</td>\n",
       "      <td>...</td>\n",
       "    </tr>\n",
       "    <tr>\n",
       "      <th>806410</th>\n",
       "      <td>20439.0</td>\n",
       "      <td>49.89419</td>\n",
       "      <td>-97.31560</td>\n",
       "      <td>Westside</td>\n",
       "    </tr>\n",
       "    <tr>\n",
       "      <th>806411</th>\n",
       "      <td>20439.0</td>\n",
       "      <td>49.89419</td>\n",
       "      <td>-97.31560</td>\n",
       "      <td>Westside</td>\n",
       "    </tr>\n",
       "    <tr>\n",
       "      <th>806412</th>\n",
       "      <td>20439.0</td>\n",
       "      <td>49.89419</td>\n",
       "      <td>-97.31560</td>\n",
       "      <td>Westside</td>\n",
       "    </tr>\n",
       "    <tr>\n",
       "      <th>806413</th>\n",
       "      <td>20439.0</td>\n",
       "      <td>49.89419</td>\n",
       "      <td>-97.31560</td>\n",
       "      <td>Westside</td>\n",
       "    </tr>\n",
       "    <tr>\n",
       "      <th>806414</th>\n",
       "      <td>20439.0</td>\n",
       "      <td>49.89419</td>\n",
       "      <td>-97.31560</td>\n",
       "      <td>Westside</td>\n",
       "    </tr>\n",
       "  </tbody>\n",
       "</table>\n",
       "<p>806415 rows × 4 columns</p>\n",
       "</div>"
      ],
      "text/plain": [
       "        Stop_Number  centre.geographic.latitude  centre.geographic.longitude  \\\n",
       "0           10615.0                    49.89232                    -97.14152   \n",
       "1           10615.0                    49.89232                    -97.14152   \n",
       "2           10615.0                    49.89232                    -97.14152   \n",
       "3           10615.0                    49.89232                    -97.14152   \n",
       "4           10615.0                    49.89232                    -97.14152   \n",
       "...             ...                         ...                          ...   \n",
       "806410      20439.0                    49.89419                    -97.31560   \n",
       "806411      20439.0                    49.89419                    -97.31560   \n",
       "806412      20439.0                    49.89419                    -97.31560   \n",
       "806413      20439.0                    49.89419                    -97.31560   \n",
       "806414      20439.0                    49.89419                    -97.31560   \n",
       "\n",
       "       Stop_Location  \n",
       "0           Westside  \n",
       "1           Westside  \n",
       "2           Westside  \n",
       "3           Westside  \n",
       "4           Westside  \n",
       "...              ...  \n",
       "806410      Westside  \n",
       "806411      Westside  \n",
       "806412      Westside  \n",
       "806413      Westside  \n",
       "806414      Westside  \n",
       "\n",
       "[806415 rows x 4 columns]"
      ]
     },
     "execution_count": 10,
     "metadata": {},
     "output_type": "execute_result"
    }
   ],
   "source": [
    "# Based on external visualization on Tableau we have figured out the directional of the stop categories : Eastside and Westside \n",
    "\n",
    "X['cluster_label'] = X['cluster_label'].replace(0,'Eastside')\n",
    "X['cluster_label'] = X['cluster_label'].replace(1,'Westside')\n",
    "\n",
    "X.rename(columns= {'cluster_label': 'Stop_Location'}, inplace=True)\n",
    "X"
   ]
  },
  {
   "cell_type": "code",
   "execution_count": 11,
   "id": "c52bc9a7",
   "metadata": {},
   "outputs": [],
   "source": [
    "# Joining the data with a main dataframe\n",
    "# Removing duplicates in the data before merging with the maain dataframe\n",
    "\n",
    "df = df.merge(X.drop_duplicates(), on='Stop_Number', how='left')"
   ]
  },
  {
   "cell_type": "code",
   "execution_count": 12,
   "id": "84bfb51f",
   "metadata": {},
   "outputs": [],
   "source": [
    "df.drop(columns=['Stop_Number',\n",
    "        'centre.geographic.latitude_x', \n",
    "        'centre.geographic.longitude_x',\n",
    "        'centre.geographic.longitude_y',\n",
    "        'centre.geographic.latitude_y'], inplace=True)"
   ]
  },
  {
   "cell_type": "code",
   "execution_count": 13,
   "id": "a100bc5c",
   "metadata": {},
   "outputs": [],
   "source": [
    "# Dropping missing values from the data\n",
    "\n",
    "df = df.dropna()\n",
    "\n",
    "# We want to treat Route Number as a categorical column so we're changing its data type to string\n",
    "\n",
    "df.Route_Number = df.Route_Number.astype('int').astype('str')"
   ]
  },
  {
   "cell_type": "code",
   "execution_count": 109,
   "id": "b8d5d354",
   "metadata": {},
   "outputs": [
    {
     "name": "stdout",
     "output_type": "stream",
     "text": [
      "Features_train shape >> (631368, 112)\n",
      "target_train shape >> (631368,)\n",
      "features_test shape >> (157843, 112)\n",
      "target_test shape >> (157843,)\n"
     ]
    }
   ],
   "source": [
    "# Segregating dataset into features and target and also creating one-hot encoding for categorical variables\n",
    "# We are dropping certain columns which don't add value to the modelling\n",
    "\n",
    "features = df.drop(columns=['Delay_Time', 'IsDelayed'])\n",
    "features = pd.get_dummies(features, drop_first=True)\n",
    "target = df['IsDelayed']\n",
    "\n",
    "from sklearn.preprocessing import MinMaxScaler\n",
    "\n",
    "scaler = MinMaxScaler()\n",
    "\n",
    "scaler.fit(features)\n",
    "features_fs = scaler.transform(features)\n",
    "\n",
    "# Splitting the dataset 80% training 20% test\n",
    "\n",
    "from sklearn.model_selection import train_test_split\n",
    "\n",
    "features_train, features_test, target_train, target_test = train_test_split(features_fs, target, test_size=0.2, random_state=1)\n",
    "\n",
    "# Checking splits of test train data\n",
    "\n",
    "print(f'Features_train shape >> {features_train.shape}')\n",
    "print(f'target_train shape >> {target_train.shape}')\n",
    "print(f'features_test shape >> {features_test.shape}')\n",
    "print(f'target_test shape >> {target_test.shape}')\n"
   ]
  },
  {
   "cell_type": "code",
   "execution_count": 43,
   "id": "200b355f",
   "metadata": {},
   "outputs": [],
   "source": [
    "# Using SelectKBest library of scikit learn feature selection package to find out feature importance\n",
    "# We are using chi-squared methology for ranking our feature importance\n",
    "\n",
    "from sklearn.feature_selection import SelectKBest\n",
    "from sklearn.feature_selection import chi2\n",
    "\n",
    "fs = SelectKBest(score_func=chi2, k='all')\n",
    "fs.fit(features_train, target_train)\n",
    "features_train_fs = fs.transform(features_train)\n",
    "features_test_fs = fs.transform(features_test)"
   ]
  },
  {
   "cell_type": "code",
   "execution_count": 45,
   "id": "24a3b1f4",
   "metadata": {},
   "outputs": [
    {
     "data": {
      "text/plain": [
       "Route_Number_33           160.746640\n",
       "Route_Number_12            86.215385\n",
       "Route_Number_18            55.184671\n",
       "street.type_Row            45.855115\n",
       "bus.bike-rack              45.601582\n",
       "                             ...    \n",
       "coverage_regular            0.036378\n",
       "coverage_super express      0.002764\n",
       "Route_Number_36             0.000058\n",
       "Route_Number_67             0.000038\n",
       "Route_Number_98             0.000004\n",
       "Length: 112, dtype: float64"
      ]
     },
     "execution_count": 45,
     "metadata": {},
     "output_type": "execute_result"
    }
   ],
   "source": [
    "feature_importance = pd.Series(fs.scores_,index=features.columns).sort_values(ascending=False)\n",
    "feature_importance"
   ]
  },
  {
   "cell_type": "code",
   "execution_count": 46,
   "id": "6707454e",
   "metadata": {},
   "outputs": [],
   "source": [
    "# Creating an empty list which will capture model names and their accuracy scores\n",
    "# This will be populated as we run the below function to check test set accuracy scores of each model\n",
    "\n",
    "model_list = []\n",
    "accuracy_scores = []\n",
    "\n",
    "# Creating a function to compute metrics for the model on the test set of the data\n",
    "\n",
    "def MLMetrics(model_name):\n",
    "    global model_list\n",
    "    from sklearn.metrics import accuracy_score, f1_score, roc_auc_score, precision_score, recall_score\n",
    "    accuracy = accuracy_score(target_test, model_name.predict(features_test), normalize=True)\n",
    "    precision = precision_score(target_test, model_name.predict(features_test))\n",
    "    recall = recall_score(target_test, model_name.predict(features_test))\n",
    "    f1_score = f1_score(target_test, model_name.predict(features_test))\n",
    "\n",
    "    print('_____________________________________________')\n",
    "    print(f\"accuracy: {accuracy}, \\n precision: {precision} , \\n recall: {recall} \\n f1_score: {f1_score}, \\n \")\n",
    "\n",
    "    #Plotting the confusion matrix\n",
    "\n",
    "    from sklearn.metrics import confusion_matrix, ConfusionMatrixDisplay\n",
    "\n",
    "    cm = confusion_matrix(target_test, model_name.predict(features_test), labels=model_name.classes_)\n",
    "    disp = ConfusionMatrixDisplay(confusion_matrix=cm,\n",
    "                                  display_labels=model_name.classes_)\n",
    "    model_list.append(str(model_name))\n",
    "    accuracy_scores.append(accuracy)\n",
    "    return disp.plot()\n",
    "    "
   ]
  },
  {
   "cell_type": "code",
   "execution_count": 47,
   "id": "e51bf650",
   "metadata": {},
   "outputs": [
    {
     "name": "stdout",
     "output_type": "stream",
     "text": [
      "_____________________________________________\n",
      "accuracy: 0.9352394467920655, \n",
      " precision: 1.0 , \n",
      " recall: 9.781864423359092e-05 \n",
      " f1_score: 0.00019561815336463224, \n",
      " \n"
     ]
    },
    {
     "data": {
      "text/plain": [
       "<sklearn.metrics._plot.confusion_matrix.ConfusionMatrixDisplay at 0x2829e6b7a00>"
      ]
     },
     "execution_count": 47,
     "metadata": {},
     "output_type": "execute_result"
    },
    {
     "data": {
      "image/png": "[encoded data removed]",
      "text/plain": [
       "<Figure size 432x288 with 2 Axes>"
      ]
     },
     "metadata": {},
     "output_type": "display_data"
    }
   ],
   "source": [
    "# Logistic REgression Model building and evaluation\n",
    "\n",
    "from sklearn.linear_model import LogisticRegression\n",
    "\n",
    "reg_model = LogisticRegression(max_iter=10000).fit(features_train, target_train)\n",
    "MLMetrics(reg_model)"
   ]
  },
  {
   "cell_type": "code",
   "execution_count": 49,
   "id": "bfa9f556",
   "metadata": {},
   "outputs": [
    {
     "name": "stdout",
     "output_type": "stream",
     "text": [
      "_____________________________________________\n",
      "accuracy: 0.9358159690325196, \n",
      " precision: 0.859375 , \n",
      " recall: 0.010760050865695002 \n",
      " f1_score: 0.021253985122210415, \n",
      " \n"
     ]
    },
    {
     "data": {
      "text/plain": [
       "<sklearn.metrics._plot.confusion_matrix.ConfusionMatrixDisplay at 0x282a2c05e50>"
      ]
     },
     "execution_count": 49,
     "metadata": {},
     "output_type": "execute_result"
    },
    {
     "data": {
      "image/png": "[encoded data removed]",
      "text/plain": [
       "<Figure size 432x288 with 2 Axes>"
      ]
     },
     "metadata": {},
     "output_type": "display_data"
    }
   ],
   "source": [
    "# Hyperparameters: Default\n",
    "\n",
    "from sklearn.tree import DecisionTreeClassifier\n",
    "Dec_Tree_1 = DecisionTreeClassifier(random_state=0)\n",
    "Dec_Tree_1.fit(features_train, target_train)\n",
    "MLMetrics(Dec_Tree_1)"
   ]
  },
  {
   "cell_type": "code",
   "execution_count": 50,
   "id": "0206f040",
   "metadata": {},
   "outputs": [
    {
     "name": "stdout",
     "output_type": "stream",
     "text": [
      "_____________________________________________\n",
      "accuracy: 0.9358413106694627, \n",
      " precision: 1.0 , \n",
      " recall: 0.009390589846424728 \n",
      " f1_score: 0.018606454113770713, \n",
      " \n"
     ]
    },
    {
     "data": {
      "text/plain": [
       "<sklearn.metrics._plot.confusion_matrix.ConfusionMatrixDisplay at 0x2829e76e3d0>"
      ]
     },
     "execution_count": 50,
     "metadata": {},
     "output_type": "execute_result"
    },
    {
     "data": {
      "image/png": "[encoded data removed]",
      "text/plain": [
       "<Figure size 432x288 with 2 Axes>"
      ]
     },
     "metadata": {},
     "output_type": "display_data"
    }
   ],
   "source": [
    "# Decision Tree Model building with Hyperparameters: Max_Depth of the Tree = 10\n",
    "\n",
    "from sklearn.tree import DecisionTreeClassifier\n",
    "Dec_Tree_2 = DecisionTreeClassifier(random_state=0, max_depth=10)\n",
    "Dec_Tree_2.fit(features_train, target_train)\n",
    "MLMetrics(Dec_Tree_2)"
   ]
  },
  {
   "cell_type": "code",
   "execution_count": 51,
   "id": "fec390e2",
   "metadata": {},
   "outputs": [
    {
     "name": "stdout",
     "output_type": "stream",
     "text": [
      "_____________________________________________\n",
      "accuracy: 0.9357209378939833, \n",
      " precision: 0.9529411764705882 , \n",
      " recall: 0.007923310182920865 \n",
      " f1_score: 0.01571594877764843, \n",
      " \n"
     ]
    },
    {
     "data": {
      "text/plain": [
       "<sklearn.metrics._plot.confusion_matrix.ConfusionMatrixDisplay at 0x2829e8b6610>"
      ]
     },
     "execution_count": 51,
     "metadata": {},
     "output_type": "execute_result"
    },
    {
     "data": {
      "image/png": "[encoded data removed]",
      "text/plain": [
       "<Figure size 432x288 with 2 Axes>"
      ]
     },
     "metadata": {},
     "output_type": "display_data"
    }
   ],
   "source": [
    "# Decision Tree Model building with Hyperparameters: Max_Depth of the Tree = 10, Minimum Samples in leaf =100\n",
    "\n",
    "from sklearn.tree import DecisionTreeClassifier\n",
    "Dec_Tree_3 = DecisionTreeClassifier(random_state=0, max_depth=10,  min_samples_leaf=100)\n",
    "Dec_Tree_3.fit(features_train, target_train)\n",
    "MLMetrics(Dec_Tree_3)"
   ]
  },
  {
   "cell_type": "code",
   "execution_count": 52,
   "id": "21219c52",
   "metadata": {},
   "outputs": [
    {
     "name": "stdout",
     "output_type": "stream",
     "text": [
      "_____________________________________________\n",
      "accuracy: 0.9358476460786984, \n",
      " precision: 1.0 , \n",
      " recall: 0.00948840849065832 \n",
      " f1_score: 0.018798449612403102, \n",
      " \n"
     ]
    },
    {
     "data": {
      "text/plain": [
       "<sklearn.metrics._plot.confusion_matrix.ConfusionMatrixDisplay at 0x28283337eb0>"
      ]
     },
     "execution_count": 52,
     "metadata": {},
     "output_type": "execute_result"
    },
    {
     "data": {
      "image/png": "[encoded data removed]",
      "text/plain": [
       "<Figure size 432x288 with 2 Axes>"
      ]
     },
     "metadata": {},
     "output_type": "display_data"
    }
   ],
   "source": [
    "# Decision Tree Model building with Hyperparameters: Max_Depth of the Tree = 10, Minimum Samples in leaf =5, min_samples_split=2\n",
    "\n",
    "from sklearn.tree import DecisionTreeClassifier\n",
    "Dec_Tree_4 = DecisionTreeClassifier(random_state=0, min_samples_split=2, min_samples_leaf= 5, max_depth=10)\n",
    "Dec_Tree_4.fit(features_train, target_train)\n",
    "MLMetrics(Dec_Tree_4)"
   ]
  },
  {
   "cell_type": "code",
   "execution_count": 53,
   "id": "cbd4a397",
   "metadata": {},
   "outputs": [
    {
     "name": "stderr",
     "output_type": "stream",
     "text": [
      "D:\\Uwinnipeg\\Anaconda\\lib\\site-packages\\sklearn\\svm\\_base.py:301: ConvergenceWarning: Solver terminated early (max_iter=2000).  Consider pre-processing your data with StandardScaler or MinMaxScaler.\n",
      "  warnings.warn(\n"
     ]
    },
    {
     "name": "stdout",
     "output_type": "stream",
     "text": [
      "_____________________________________________\n",
      "accuracy: 0.2809817350151733, \n",
      " precision: 0.06465157455419249 , \n",
      " recall: 0.7500733639831751 \n",
      " f1_score: 0.11904244418915143, \n",
      " \n"
     ]
    },
    {
     "data": {
      "text/plain": [
       "<sklearn.metrics._plot.confusion_matrix.ConfusionMatrixDisplay at 0x2829e8be730>"
      ]
     },
     "execution_count": 53,
     "metadata": {},
     "output_type": "execute_result"
    },
    {
     "data": {
      "image/png": "[encoded data removed]",
      "text/plain": [
       "<Figure size 432x288 with 2 Axes>"
      ]
     },
     "metadata": {},
     "output_type": "display_data"
    }
   ],
   "source": [
    "# Kernel = 'Linear', C=1\n",
    "\n",
    "from sklearn.svm import SVC\n",
    "\n",
    "model = SVC(kernel='linear', C=1.0, max_iter=2000)\n",
    "SVC1 = model.fit(features_train, target_train)\n",
    "MLMetrics(SVC1)"
   ]
  },
  {
   "cell_type": "code",
   "execution_count": 54,
   "id": "c018157c",
   "metadata": {},
   "outputs": [
    {
     "name": "stdout",
     "output_type": "stream",
     "text": [
      "_____________________________________________\n",
      "accuracy: 0.07364913236570517, \n",
      " precision: 0.06499696126411413 , \n",
      " recall: 0.9938374254132838 \n",
      " f1_score: 0.12201419495850796, \n",
      " \n"
     ]
    },
    {
     "data": {
      "text/plain": [
       "<sklearn.metrics._plot.confusion_matrix.ConfusionMatrixDisplay at 0x2829e6c6730>"
      ]
     },
     "execution_count": 54,
     "metadata": {},
     "output_type": "execute_result"
    },
    {
     "data": {
      "image/png": "[encoded data removed]",
      "text/plain": [
       "<Figure size 432x288 with 2 Axes>"
      ]
     },
     "metadata": {},
     "output_type": "display_data"
    }
   ],
   "source": [
    "from sklearn.naive_bayes import GaussianNB\n",
    "\n",
    "gnb = GaussianNB()\n",
    "gnb.fit(features_train, target_train)\n",
    "MLMetrics(gnb)"
   ]
  },
  {
   "cell_type": "code",
   "execution_count": 55,
   "id": "94b033da",
   "metadata": {},
   "outputs": [
    {
     "name": "stdout",
     "output_type": "stream",
     "text": [
      "_____________________________________________\n",
      "accuracy: 0.9358159690325196, \n",
      " precision: 0.823943661971831 , \n",
      " recall: 0.011444781375330138 \n",
      " f1_score: 0.022575976845151953, \n",
      " \n"
     ]
    },
    {
     "data": {
      "text/plain": [
       "<sklearn.metrics._plot.confusion_matrix.ConfusionMatrixDisplay at 0x282a2b0aa00>"
      ]
     },
     "execution_count": 55,
     "metadata": {},
     "output_type": "execute_result"
    },
    {
     "data": {
      "image/png": "[encoded data removed]",
      "text/plain": [
       "<Figure size 432x288 with 2 Axes>"
      ]
     },
     "metadata": {},
     "output_type": "display_data"
    }
   ],
   "source": [
    "#Import Random Forest Model\n",
    "from sklearn.ensemble import RandomForestClassifier\n",
    "\n",
    "#Create a Gaussian Classifier\n",
    "RFC1=RandomForestClassifier(n_estimators=100)\n",
    "\n",
    "#Train the model using the training sets y_pred=clf.predict(X_test)\n",
    "RFC1.fit(features_train, target_train)\n",
    "MLMetrics(RFC1)"
   ]
  },
  {
   "cell_type": "code",
   "execution_count": 56,
   "id": "a34e4ce1",
   "metadata": {},
   "outputs": [
    {
     "data": {
      "image/png": "[encoded data removed]",
      "text/plain": [
       "<Figure size 1584x360 with 1 Axes>"
      ]
     },
     "metadata": {},
     "output_type": "display_data"
    }
   ],
   "source": [
    "# Plotting Accuracy Scores Comparison for All Models Above\n",
    "\n",
    "\n",
    "plt.figure(figsize=(22,5))\n",
    "plt.plot(model_list, accuracy_scores)\n",
    "plt.ylabel('Accuracy Score on Test Data')\n",
    "plt.xticks(rotation = 90) \n",
    "plt.title('Accuracy Score Comparison between Different Models')\n",
    "plt.show()"
   ]
  },
  {
   "cell_type": "markdown",
   "id": "f9435053",
   "metadata": {},
   "source": [
    "# Predicting Delay Time of the Bus"
   ]
  },
  {
   "cell_type": "code",
   "execution_count": 116,
   "id": "64d22e50",
   "metadata": {},
   "outputs": [
    {
     "name": "stdout",
     "output_type": "stream",
     "text": [
      "Features_train shape >> (631368, 112)\n",
      "target_train shape >> (631368,)\n",
      "features_test shape >> (157843, 112)\n",
      "target_test shape >> (157843,)\n"
     ]
    }
   ],
   "source": [
    "# Segregating dataset into features and target and also creating one-hot encoding for categorical variables\n",
    "# We are dropping certain columns which don't add value to the modelling\n",
    "\n",
    "features = df.drop(columns=['Delay_Time', 'IsDelayed'])\n",
    "features = pd.get_dummies(features, drop_first=True)\n",
    "target = df['Delay_Time']\n",
    "\n",
    "from sklearn.preprocessing import MinMaxScaler\n",
    "\n",
    "scaler = MinMaxScaler()\n",
    "\n",
    "scaler.fit(features)\n",
    "features_fs = scaler.transform(features)\n",
    "\n",
    "# Splitting the dataset 80% training 20% test\n",
    "\n",
    "from sklearn.model_selection import train_test_split\n",
    "\n",
    "features_train, features_test, target_train, target_test = train_test_split(features_fs, target, test_size=0.2, random_state=1)\n",
    "\n",
    "# Checking splits of test train data\n",
    "\n",
    "print(f'Features_train shape >> {features_train.shape}')\n",
    "print(f'target_train shape >> {target_train.shape}')\n",
    "print(f'features_test shape >> {features_test.shape}')\n",
    "print(f'target_test shape >> {target_test.shape}')"
   ]
  },
  {
   "cell_type": "code",
   "execution_count": 63,
   "id": "e62a438e",
   "metadata": {},
   "outputs": [],
   "source": [
    "task_2_model_list = []\n",
    "task_2_accuracy_scores = []\n",
    "\n",
    "def Regression_Metrics(model_name):\n",
    "    global model_list\n",
    "    \n",
    "    from sklearn.metrics import mean_squared_error, r2_score\n",
    "    # MSE quantifies the avaerge distance of actual data points from predicted data points\n",
    "    # R2 measures how much influence is bmi having on predicted the target\n",
    "    \n",
    "    mse = mean_squared_error(target_test, model_name.predict(features_test))\n",
    "    r2 = r2_score(target_test, model_name.predict(features_test))\n",
    "\n",
    "    print(f\"mse: {mse}, r2: {r2}\")\n",
    "    \n",
    "    task_2_model_list.append(str(model_name))\n",
    "    task_2_accuracy_scores.append(mse)"
   ]
  },
  {
   "cell_type": "code",
   "execution_count": 64,
   "id": "8773cb47",
   "metadata": {},
   "outputs": [
    {
     "name": "stdout",
     "output_type": "stream",
     "text": [
      "mse: 0.060470270232415566, r2: 0.0016817719449537805\n"
     ]
    }
   ],
   "source": [
    "# Importing Linear Regression library from sklearn\n",
    "from sklearn.linear_model import LinearRegression\n",
    "\n",
    "# Fitting the regression equation on the train data\n",
    "\n",
    "reg1 = LinearRegression().fit(features_train, target_train)\n",
    "\n",
    "Regression_Metrics(reg1)"
   ]
  },
  {
   "cell_type": "code",
   "execution_count": 65,
   "id": "4c0f60de",
   "metadata": {},
   "outputs": [
    {
     "name": "stdout",
     "output_type": "stream",
     "text": [
      "mse: 0.06050553492405851, r2: 0.0010995786731429202\n"
     ]
    }
   ],
   "source": [
    "from sklearn.linear_model import SGDRegressor\n",
    "\n",
    "sgd1 = SGDRegressor(max_iter=10000, tol=1e-3, random_state=0, penalty='none').fit(features_train, target_train)\n",
    "Regression_Metrics(sgd1)"
   ]
  },
  {
   "cell_type": "code",
   "execution_count": 69,
   "id": "9dc049e9",
   "metadata": {},
   "outputs": [
    {
     "name": "stdout",
     "output_type": "stream",
     "text": [
      "mse: 0.05982053951261795, r2: 0.012408332590511773\n"
     ]
    }
   ],
   "source": [
    "from sklearn.neural_network import MLPRegressor\n",
    "MLP1 = MLPRegressor()\n",
    "MLP1.fit(features_train, target_train)\n",
    "Regression_Metrics(MLP1)"
   ]
  },
  {
   "cell_type": "code",
   "execution_count": 139,
   "id": "6036f611",
   "metadata": {},
   "outputs": [],
   "source": [
    "features_train=np.reshape(features_train, (-1,1))\n",
    "features_test=np.reshape(features_test, (-1,1))"
   ]
  },
  {
   "cell_type": "code",
   "execution_count": 152,
   "id": "d868d70d",
   "metadata": {},
   "outputs": [
    {
     "name": "stdout",
     "output_type": "stream",
     "text": [
      "Model: \"sequential_7\"\n",
      "_________________________________________________________________\n",
      "Layer (type)                 Output Shape              Param #   \n",
      "=================================================================\n",
      "dense_21 (Dense)             (None, 113)               12882     \n",
      "_________________________________________________________________\n",
      "dense_22 (Dense)             (None, 5587)              636918    \n",
      "_________________________________________________________________\n",
      "dense_23 (Dense)             (None, 1)                 5588      \n",
      "=================================================================\n",
      "Total params: 655,388\n",
      "Trainable params: 655,388\n",
      "Non-trainable params: 0\n",
      "_________________________________________________________________\n"
     ]
    }
   ],
   "source": [
    "model = Sequential()\n",
    "# Input Layer = Number of features in the training set + 1\n",
    "model.add(Dense(113, input_dim=113, kernel_initializer='normal', activation='relu'))\n",
    "\n",
    "# Hidden Layer = Training Data Samples/Factor * (Input Neurons + Output Neurons)\n",
    "model.add(Dense(5587, activation='relu'))\n",
    "\n",
    "model.add(Dense(1, activation='linear'))\n",
    "model.summary()"
   ]
  },
  {
   "cell_type": "code",
   "execution_count": 154,
   "id": "7cacb20b",
   "metadata": {},
   "outputs": [
    {
     "ename": "ValueError",
     "evalue": "Data cardinality is ambiguous:\n  x sizes: 56570572\n  y sizes: 631368\nMake sure all arrays contain the same number of samples.",
     "output_type": "error",
     "traceback": [
      "\u001b[1;31m---------------------------------------------------------------------------\u001b[0m",
      "\u001b[1;31mValueError\u001b[0m                                Traceback (most recent call last)",
      "\u001b[1;32mC:\\Users\\AKSHAY~1\\AppData\\Local\\Temp/ipykernel_10412/2270229839.py\u001b[0m in \u001b[0;36m<module>\u001b[1;34m\u001b[0m\n\u001b[0;32m      1\u001b[0m \u001b[0mmodel\u001b[0m\u001b[1;33m.\u001b[0m\u001b[0mcompile\u001b[0m\u001b[1;33m(\u001b[0m\u001b[0mloss\u001b[0m\u001b[1;33m=\u001b[0m\u001b[1;34m'mse'\u001b[0m\u001b[1;33m,\u001b[0m \u001b[0moptimizer\u001b[0m\u001b[1;33m=\u001b[0m\u001b[1;34m'adam'\u001b[0m\u001b[1;33m,\u001b[0m \u001b[0mmetrics\u001b[0m\u001b[1;33m=\u001b[0m\u001b[1;33m[\u001b[0m\u001b[1;34m'mse'\u001b[0m\u001b[1;33m,\u001b[0m\u001b[1;34m'mae'\u001b[0m\u001b[1;33m]\u001b[0m\u001b[1;33m)\u001b[0m\u001b[1;33m\u001b[0m\u001b[1;33m\u001b[0m\u001b[0m\n\u001b[1;32m----> 2\u001b[1;33m \u001b[0mhistory\u001b[0m\u001b[1;33m=\u001b[0m\u001b[0mmodel\u001b[0m\u001b[1;33m.\u001b[0m\u001b[0mfit\u001b[0m\u001b[1;33m(\u001b[0m\u001b[0mfeatures_train\u001b[0m\u001b[1;33m,\u001b[0m \u001b[0mtarget_train\u001b[0m\u001b[1;33m,\u001b[0m \u001b[0mepochs\u001b[0m\u001b[1;33m=\u001b[0m\u001b[1;36m30\u001b[0m\u001b[1;33m,\u001b[0m \u001b[0mbatch_size\u001b[0m\u001b[1;33m=\u001b[0m\u001b[1;36m150\u001b[0m\u001b[1;33m,\u001b[0m \u001b[0mverbose\u001b[0m\u001b[1;33m=\u001b[0m\u001b[1;36m1\u001b[0m\u001b[1;33m,\u001b[0m \u001b[0mvalidation_split\u001b[0m\u001b[1;33m=\u001b[0m\u001b[1;36m0.2\u001b[0m\u001b[1;33m)\u001b[0m\u001b[1;33m\u001b[0m\u001b[1;33m\u001b[0m\u001b[0m\n\u001b[0m\u001b[0;32m      3\u001b[0m \u001b[0mpredictions\u001b[0m \u001b[1;33m=\u001b[0m \u001b[0mmodel\u001b[0m\u001b[1;33m.\u001b[0m\u001b[0mpredict\u001b[0m\u001b[1;33m(\u001b[0m\u001b[0mfeatures_test\u001b[0m\u001b[1;33m)\u001b[0m\u001b[1;33m\u001b[0m\u001b[1;33m\u001b[0m\u001b[0m\n",
      "\u001b[1;32mD:\\Uwinnipeg\\Anaconda\\lib\\site-packages\\tensorflow\\python\\keras\\engine\\training.py\u001b[0m in \u001b[0;36mfit\u001b[1;34m(self, x, y, batch_size, epochs, verbose, callbacks, validation_split, validation_data, shuffle, class_weight, sample_weight, initial_epoch, steps_per_epoch, validation_steps, validation_batch_size, validation_freq, max_queue_size, workers, use_multiprocessing)\u001b[0m\n\u001b[0;32m   1137\u001b[0m          \u001b[0mtraining_utils\u001b[0m\u001b[1;33m.\u001b[0m\u001b[0mRespectCompiledTrainableState\u001b[0m\u001b[1;33m(\u001b[0m\u001b[0mself\u001b[0m\u001b[1;33m)\u001b[0m\u001b[1;33m:\u001b[0m\u001b[1;33m\u001b[0m\u001b[1;33m\u001b[0m\u001b[0m\n\u001b[0;32m   1138\u001b[0m       \u001b[1;31m# Creates a `tf.data.Dataset` and handles batch and epoch iteration.\u001b[0m\u001b[1;33m\u001b[0m\u001b[1;33m\u001b[0m\u001b[0m\n\u001b[1;32m-> 1139\u001b[1;33m       data_handler = data_adapter.get_data_handler(\n\u001b[0m\u001b[0;32m   1140\u001b[0m           \u001b[0mx\u001b[0m\u001b[1;33m=\u001b[0m\u001b[0mx\u001b[0m\u001b[1;33m,\u001b[0m\u001b[1;33m\u001b[0m\u001b[1;33m\u001b[0m\u001b[0m\n\u001b[0;32m   1141\u001b[0m           \u001b[0my\u001b[0m\u001b[1;33m=\u001b[0m\u001b[0my\u001b[0m\u001b[1;33m,\u001b[0m\u001b[1;33m\u001b[0m\u001b[1;33m\u001b[0m\u001b[0m\n",
      "\u001b[1;32mD:\\Uwinnipeg\\Anaconda\\lib\\site-packages\\tensorflow\\python\\keras\\engine\\data_adapter.py\u001b[0m in \u001b[0;36mget_data_handler\u001b[1;34m(*args, **kwargs)\u001b[0m\n\u001b[0;32m   1392\u001b[0m   \u001b[1;32mif\u001b[0m \u001b[0mgetattr\u001b[0m\u001b[1;33m(\u001b[0m\u001b[0mkwargs\u001b[0m\u001b[1;33m[\u001b[0m\u001b[1;34m\"model\"\u001b[0m\u001b[1;33m]\u001b[0m\u001b[1;33m,\u001b[0m \u001b[1;34m\"_cluster_coordinator\"\u001b[0m\u001b[1;33m,\u001b[0m \u001b[1;32mNone\u001b[0m\u001b[1;33m)\u001b[0m\u001b[1;33m:\u001b[0m\u001b[1;33m\u001b[0m\u001b[1;33m\u001b[0m\u001b[0m\n\u001b[0;32m   1393\u001b[0m     \u001b[1;32mreturn\u001b[0m \u001b[0m_ClusterCoordinatorDataHandler\u001b[0m\u001b[1;33m(\u001b[0m\u001b[1;33m*\u001b[0m\u001b[0margs\u001b[0m\u001b[1;33m,\u001b[0m \u001b[1;33m**\u001b[0m\u001b[0mkwargs\u001b[0m\u001b[1;33m)\u001b[0m\u001b[1;33m\u001b[0m\u001b[1;33m\u001b[0m\u001b[0m\n\u001b[1;32m-> 1394\u001b[1;33m   \u001b[1;32mreturn\u001b[0m \u001b[0mDataHandler\u001b[0m\u001b[1;33m(\u001b[0m\u001b[1;33m*\u001b[0m\u001b[0margs\u001b[0m\u001b[1;33m,\u001b[0m \u001b[1;33m**\u001b[0m\u001b[0mkwargs\u001b[0m\u001b[1;33m)\u001b[0m\u001b[1;33m\u001b[0m\u001b[1;33m\u001b[0m\u001b[0m\n\u001b[0m\u001b[0;32m   1395\u001b[0m \u001b[1;33m\u001b[0m\u001b[0m\n\u001b[0;32m   1396\u001b[0m \u001b[1;33m\u001b[0m\u001b[0m\n",
      "\u001b[1;32mD:\\Uwinnipeg\\Anaconda\\lib\\site-packages\\tensorflow\\python\\keras\\engine\\data_adapter.py\u001b[0m in \u001b[0;36m__init__\u001b[1;34m(self, x, y, sample_weight, batch_size, steps_per_epoch, initial_epoch, epochs, shuffle, class_weight, max_queue_size, workers, use_multiprocessing, model, steps_per_execution, distribute)\u001b[0m\n\u001b[0;32m   1147\u001b[0m \u001b[1;33m\u001b[0m\u001b[0m\n\u001b[0;32m   1148\u001b[0m     \u001b[0madapter_cls\u001b[0m \u001b[1;33m=\u001b[0m \u001b[0mselect_data_adapter\u001b[0m\u001b[1;33m(\u001b[0m\u001b[0mx\u001b[0m\u001b[1;33m,\u001b[0m \u001b[0my\u001b[0m\u001b[1;33m)\u001b[0m\u001b[1;33m\u001b[0m\u001b[1;33m\u001b[0m\u001b[0m\n\u001b[1;32m-> 1149\u001b[1;33m     self._adapter = adapter_cls(\n\u001b[0m\u001b[0;32m   1150\u001b[0m         \u001b[0mx\u001b[0m\u001b[1;33m,\u001b[0m\u001b[1;33m\u001b[0m\u001b[1;33m\u001b[0m\u001b[0m\n\u001b[0;32m   1151\u001b[0m         \u001b[0my\u001b[0m\u001b[1;33m,\u001b[0m\u001b[1;33m\u001b[0m\u001b[1;33m\u001b[0m\u001b[0m\n",
      "\u001b[1;32mD:\\Uwinnipeg\\Anaconda\\lib\\site-packages\\tensorflow\\python\\keras\\engine\\data_adapter.py\u001b[0m in \u001b[0;36m__init__\u001b[1;34m(self, x, y, sample_weights, sample_weight_modes, batch_size, epochs, steps, shuffle, **kwargs)\u001b[0m\n\u001b[0;32m    252\u001b[0m \u001b[1;33m\u001b[0m\u001b[0m\n\u001b[0;32m    253\u001b[0m     \u001b[0mnum_samples\u001b[0m \u001b[1;33m=\u001b[0m \u001b[0mset\u001b[0m\u001b[1;33m(\u001b[0m\u001b[0mint\u001b[0m\u001b[1;33m(\u001b[0m\u001b[0mi\u001b[0m\u001b[1;33m.\u001b[0m\u001b[0mshape\u001b[0m\u001b[1;33m[\u001b[0m\u001b[1;36m0\u001b[0m\u001b[1;33m]\u001b[0m\u001b[1;33m)\u001b[0m \u001b[1;32mfor\u001b[0m \u001b[0mi\u001b[0m \u001b[1;32min\u001b[0m \u001b[0mnest\u001b[0m\u001b[1;33m.\u001b[0m\u001b[0mflatten\u001b[0m\u001b[1;33m(\u001b[0m\u001b[0minputs\u001b[0m\u001b[1;33m)\u001b[0m\u001b[1;33m)\u001b[0m\u001b[1;33m.\u001b[0m\u001b[0mpop\u001b[0m\u001b[1;33m(\u001b[0m\u001b[1;33m)\u001b[0m\u001b[1;33m\u001b[0m\u001b[1;33m\u001b[0m\u001b[0m\n\u001b[1;32m--> 254\u001b[1;33m     \u001b[0m_check_data_cardinality\u001b[0m\u001b[1;33m(\u001b[0m\u001b[0minputs\u001b[0m\u001b[1;33m)\u001b[0m\u001b[1;33m\u001b[0m\u001b[1;33m\u001b[0m\u001b[0m\n\u001b[0m\u001b[0;32m    255\u001b[0m \u001b[1;33m\u001b[0m\u001b[0m\n\u001b[0;32m    256\u001b[0m     \u001b[1;31m# If batch_size is not passed but steps is, calculate from the input data.\u001b[0m\u001b[1;33m\u001b[0m\u001b[1;33m\u001b[0m\u001b[0m\n",
      "\u001b[1;32mD:\\Uwinnipeg\\Anaconda\\lib\\site-packages\\tensorflow\\python\\keras\\engine\\data_adapter.py\u001b[0m in \u001b[0;36m_check_data_cardinality\u001b[1;34m(data)\u001b[0m\n\u001b[0;32m   1658\u001b[0m           label, \", \".join(str(i.shape[0]) for i in nest.flatten(single_data)))\n\u001b[0;32m   1659\u001b[0m     \u001b[0mmsg\u001b[0m \u001b[1;33m+=\u001b[0m \u001b[1;34m\"Make sure all arrays contain the same number of samples.\"\u001b[0m\u001b[1;33m\u001b[0m\u001b[1;33m\u001b[0m\u001b[0m\n\u001b[1;32m-> 1660\u001b[1;33m     \u001b[1;32mraise\u001b[0m \u001b[0mValueError\u001b[0m\u001b[1;33m(\u001b[0m\u001b[0mmsg\u001b[0m\u001b[1;33m)\u001b[0m\u001b[1;33m\u001b[0m\u001b[1;33m\u001b[0m\u001b[0m\n\u001b[0m\u001b[0;32m   1661\u001b[0m \u001b[1;33m\u001b[0m\u001b[0m\n\u001b[0;32m   1662\u001b[0m \u001b[1;33m\u001b[0m\u001b[0m\n",
      "\u001b[1;31mValueError\u001b[0m: Data cardinality is ambiguous:\n  x sizes: 56570572\n  y sizes: 631368\nMake sure all arrays contain the same number of samples."
     ]
    }
   ],
   "source": [
    "model.compile(loss='mse', optimizer='adam', metrics=['mse','mae'])\n",
    "history=model.fit(features_train, target_train, epochs=30, batch_size=150, verbose=1, validation_split=0.2)\n",
    "predictions = model.predict(features_test)"
   ]
  },
  {
   "cell_type": "code",
   "execution_count": 126,
   "id": "51b40b1c",
   "metadata": {},
   "outputs": [
    {
     "data": {
      "text/plain": [
       "(631368,)"
      ]
     },
     "execution_count": 126,
     "metadata": {},
     "output_type": "execute_result"
    }
   ],
   "source": [
    "target_train.shape"
   ]
  },
  {
   "cell_type": "code",
   "execution_count": 121,
   "id": "389fe7d6",
   "metadata": {},
   "outputs": [
    {
     "ename": "TypeError",
     "evalue": "'numpy.ndarray' object is not callable",
     "output_type": "error",
     "traceback": [
      "\u001b[1;31m---------------------------------------------------------------------------\u001b[0m",
      "\u001b[1;31mTypeError\u001b[0m                                 Traceback (most recent call last)",
      "\u001b[1;32mC:\\Users\\AKSHAY~1\\AppData\\Local\\Temp/ipykernel_10412/73835035.py\u001b[0m in \u001b[0;36m<module>\u001b[1;34m\u001b[0m\n\u001b[1;32m----> 1\u001b[1;33m \u001b[0mnp\u001b[0m\u001b[1;33m.\u001b[0m\u001b[0mreshape\u001b[0m\u001b[1;33m(\u001b[0m\u001b[0mfeatures_train\u001b[0m\u001b[1;33m(\u001b[0m\u001b[1;33m-\u001b[0m\u001b[1;36m1\u001b[0m\u001b[1;33m,\u001b[0m\u001b[1;36m1\u001b[0m\u001b[1;33m)\u001b[0m\u001b[1;33m)\u001b[0m\u001b[1;33m\u001b[0m\u001b[1;33m\u001b[0m\u001b[0m\n\u001b[0m",
      "\u001b[1;31mTypeError\u001b[0m: 'numpy.ndarray' object is not callable"
     ]
    }
   ],
   "source": [
    "np.reshape(features_train(-1,1))"
   ]
  },
  {
   "cell_type": "code",
   "execution_count": 149,
   "id": "804d0da7",
   "metadata": {},
   "outputs": [],
   "source": [
    "import tensorflow as tf\n",
    "features_train = tf.stack(features_train)\n",
    "target_train = tf.stack(target_train)"
   ]
  },
  {
   "cell_type": "code",
   "execution_count": 150,
   "id": "0eb423ed",
   "metadata": {},
   "outputs": [
    {
     "data": {
      "text/plain": [
       "<tf.Tensor: shape=(631368,), dtype=float64, numpy=array([  0.,   0.,   0., ...,   0., 235.,   0.])>"
      ]
     },
     "execution_count": 150,
     "metadata": {},
     "output_type": "execute_result"
    }
   ],
   "source": [
    "target_train"
   ]
  },
  {
   "cell_type": "code",
   "execution_count": null,
   "id": "93049c9f",
   "metadata": {},
   "outputs": [],
   "source": []
  }
 ],
 "metadata": {
  "kernelspec": {
   "display_name": "Python 3 (ipykernel)",
   "language": "python",
   "name": "python3"
  },
  "language_info": {
   "codemirror_mode": {
    "name": "ipython",
    "version": 3
   },
   "file_extension": ".py",
   "mimetype": "text/x-python",
   "name": "python",
   "nbconvert_exporter": "python",
   "pygments_lexer": "ipython3",
   "version": "3.9.7"
  }
 },
 "nbformat": 4,
 "nbformat_minor": 5
}
