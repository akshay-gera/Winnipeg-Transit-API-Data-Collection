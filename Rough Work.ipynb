{
 "cells": [
  {
   "cell_type": "code",
   "execution_count": 1,
   "id": "b4001b08",
   "metadata": {},
   "outputs": [],
   "source": [
    "import pandas as pd\n",
    "import requests\n",
    "import math\n",
    "import seaborn as sns\n",
    "import matplotlib.pyplot as plt\n",
    "from numpy import nan"
   ]
  },
  {
   "cell_type": "code",
   "execution_count": 13,
   "id": "d2e779f7",
   "metadata": {},
   "outputs": [],
   "source": [
    "routes_list = list(df_routes['number'])\n"
   ]
  },
  {
   "cell_type": "code",
   "execution_count": 20,
   "id": "d575ad32",
   "metadata": {},
   "outputs": [],
   "source": []
  },
  {
   "cell_type": "code",
   "execution_count": 21,
   "id": "78a5f7a5",
   "metadata": {},
   "outputs": [],
   "source": [
    "df_variants= get_variants()"
   ]
  },
  {
   "cell_type": "code",
   "execution_count": 22,
   "id": "9503b241",
   "metadata": {},
   "outputs": [
    {
     "data": {
      "text/html": [
       "<div>\n",
       "<style scoped>\n",
       "    .dataframe tbody tr th:only-of-type {\n",
       "        vertical-align: middle;\n",
       "    }\n",
       "\n",
       "    .dataframe tbody tr th {\n",
       "        vertical-align: top;\n",
       "    }\n",
       "\n",
       "    .dataframe thead th {\n",
       "        text-align: right;\n",
       "    }\n",
       "</style>\n",
       "<table border=\"1\" class=\"dataframe\">\n",
       "  <thead>\n",
       "    <tr style=\"text-align: right;\">\n",
       "      <th></th>\n",
       "      <th>key</th>\n",
       "      <th>name</th>\n",
       "      <th>Route</th>\n",
       "      <th>description</th>\n",
       "    </tr>\n",
       "  </thead>\n",
       "  <tbody>\n",
       "    <tr>\n",
       "      <th>0</th>\n",
       "      <td>11-0-P</td>\n",
       "      <td>Portage-Kildonan to Polo Park</td>\n",
       "      <td>11.0</td>\n",
       "      <td>NaN</td>\n",
       "    </tr>\n",
       "    <tr>\n",
       "      <th>1</th>\n",
       "      <td>11-1-G</td>\n",
       "      <td>Portage-Kildonan to Glenway via</td>\n",
       "      <td>11.0</td>\n",
       "      <td>NaN</td>\n",
       "    </tr>\n",
       "    <tr>\n",
       "      <th>2</th>\n",
       "      <td>11-1-R</td>\n",
       "      <td>Portage-Kildonan to North Kildonan via Rothesay</td>\n",
       "      <td>11.0</td>\n",
       "      <td>NaN</td>\n",
       "    </tr>\n",
       "    <tr>\n",
       "      <th>3</th>\n",
       "      <td>11-0-*</td>\n",
       "      <td>Portage-Kildonan to Henderson</td>\n",
       "      <td>11.0</td>\n",
       "      <td>NaN</td>\n",
       "    </tr>\n",
       "    <tr>\n",
       "      <th>4</th>\n",
       "      <td>11-1-D</td>\n",
       "      <td>Portage-Kildonan to North Kildonan via Donwood</td>\n",
       "      <td>11.0</td>\n",
       "      <td>NaN</td>\n",
       "    </tr>\n",
       "    <tr>\n",
       "      <th>...</th>\n",
       "      <td>...</td>\n",
       "      <td>...</td>\n",
       "      <td>...</td>\n",
       "      <td>...</td>\n",
       "    </tr>\n",
       "    <tr>\n",
       "      <th>282</th>\n",
       "      <td>92-1-C</td>\n",
       "      <td>to Crossroads Station</td>\n",
       "      <td>92.0</td>\n",
       "      <td>NaN</td>\n",
       "    </tr>\n",
       "    <tr>\n",
       "      <th>283</th>\n",
       "      <td>92-1-K</td>\n",
       "      <td>to Kildonan Place</td>\n",
       "      <td>92.0</td>\n",
       "      <td>NaN</td>\n",
       "    </tr>\n",
       "    <tr>\n",
       "      <th>284</th>\n",
       "      <td>97-1-P</td>\n",
       "      <td>to Point Douglas</td>\n",
       "      <td>97.0</td>\n",
       "      <td>NaN</td>\n",
       "    </tr>\n",
       "    <tr>\n",
       "      <th>285</th>\n",
       "      <td>97-0-F</td>\n",
       "      <td>to Fife</td>\n",
       "      <td>97.0</td>\n",
       "      <td>NaN</td>\n",
       "    </tr>\n",
       "    <tr>\n",
       "      <th>286</th>\n",
       "      <td>97-1-f</td>\n",
       "      <td>to Fife</td>\n",
       "      <td>97.0</td>\n",
       "      <td>NaN</td>\n",
       "    </tr>\n",
       "  </tbody>\n",
       "</table>\n",
       "<p>287 rows × 4 columns</p>\n",
       "</div>"
      ],
      "text/plain": [
       "        key                                             name  Route  \\\n",
       "0    11-0-P                    Portage-Kildonan to Polo Park   11.0   \n",
       "1    11-1-G                  Portage-Kildonan to Glenway via   11.0   \n",
       "2    11-1-R  Portage-Kildonan to North Kildonan via Rothesay   11.0   \n",
       "3    11-0-*                    Portage-Kildonan to Henderson   11.0   \n",
       "4    11-1-D   Portage-Kildonan to North Kildonan via Donwood   11.0   \n",
       "..      ...                                              ...    ...   \n",
       "282  92-1-C                            to Crossroads Station   92.0   \n",
       "283  92-1-K                                to Kildonan Place   92.0   \n",
       "284  97-1-P                                 to Point Douglas   97.0   \n",
       "285  97-0-F                                          to Fife   97.0   \n",
       "286  97-1-f                                          to Fife   97.0   \n",
       "\n",
       "    description  \n",
       "0           NaN  \n",
       "1           NaN  \n",
       "2           NaN  \n",
       "3           NaN  \n",
       "4           NaN  \n",
       "..          ...  \n",
       "282         NaN  \n",
       "283         NaN  \n",
       "284         NaN  \n",
       "285         NaN  \n",
       "286         NaN  \n",
       "\n",
       "[287 rows x 4 columns]"
      ]
     },
     "execution_count": 22,
     "metadata": {},
     "output_type": "execute_result"
    }
   ],
   "source": [
    "df_variants"
   ]
  },
  {
   "cell_type": "code",
   "execution_count": 24,
   "id": "64a6cb42",
   "metadata": {},
   "outputs": [
    {
     "data": {
      "text/plain": [
       "273"
      ]
     },
     "execution_count": 24,
     "metadata": {},
     "output_type": "execute_result"
    }
   ],
   "source": [
    "df_variants.key.nunique()"
   ]
  },
  {
   "cell_type": "markdown",
   "id": "376350ee",
   "metadata": {},
   "source": [
    "# Code to Tally Bus Stops List Manually"
   ]
  },
  {
   "cell_type": "code",
   "execution_count": null,
   "id": "050a6e74",
   "metadata": {},
   "outputs": [],
   "source": [
    "# Running the for loop for the balance bus variants\n",
    "\n",
    "for bus_variant in bus_variants_list[100:]:\n",
    "    response = requests.get(f\"https://api.winnipegtransit.com/v3/stops.json?api-key=wPOIZFdePaV6BdttKD7C&variant={bus_variant}\")\n",
    "    \n",
    "    # Creating a check on error server response\n",
    "    # this condition will print out server error wherever any fetch finds error \n",
    "    \n",
    "    if response.reason == 'OK':\n",
    "        json_format = response.json()['stops']\n",
    "    \n",
    "        # Creating a temporary dataframe df_stops_each_variant which will updated with stops of bus variant on each loop\n",
    "        # This will be used in concatenating each bus variant's stop info in the main dataframe df_stops\n",
    "        df_stops_each_variant = pd.json_normalize(json_format)\n",
    "         \n",
    "        # Populating bus_variant column with bus variant number value to give the dataframe a unique identifier\n",
    "        df_stops_each_variant['bus_variant'] = bus_variant\n",
    "    \n",
    "        # Concatenating each bus variant's info to main dataframe with bus stops information\n",
    "        df_stops = pd.concat([df_stops, df_stops_each_variant], ignore_index=True)\n",
    "\n",
    "    \n",
    "    else:\n",
    "        print(f\"Bus variant {bus_variant} returned server error while fetching data\")\n",
    "        # Populating a list of bus variants for which destinations couldn't be fetched\n",
    "        variants_without_stops.append(bus_variant)"
   ]
  },
  {
   "cell_type": "code",
   "execution_count": null,
   "id": "9cd24172",
   "metadata": {},
   "outputs": [],
   "source": [
    "# Creating a function which will go inside in each bus_variants_chunks list elements\n",
    "# And make an api call for each bus variant chunkwise\n",
    "\n",
    "# Initializing with an empty pandas dataframe which will populate with each api call\n",
    "df_stops_per_chunk = pd.DataFrame()\n",
    "\n",
    "\n",
    "# This function takes in chunk_index(what chunk of the whole list to work on)\n",
    "# Then for each chunk index makes api calls of bus variants in that chunk\n",
    "\n",
    "def bus_stops_chunkwise(chunk_index):\n",
    "    \n",
    "    # Declaring the initialized dataframe variable df_stop_features as a global variable\n",
    "    # Without it the function will consider it to be local variable and not work\n",
    "    global df_stops_per_chunk\n",
    "    \n",
    "    df_stops_per_chunk = pd.DataFrame()\n",
    "    \n",
    "    # Running a for loop to make api call for each stop in the bus_stops_chunks list\n",
    "    for variant in bus_variants_chunks[chunk_index]:\n",
    "        \n",
    "        try:\n",
    "            \n",
    "            response = requests.get(f\"https://api.winnipegtransit.com/v3/stops.json?api-key=wPOIZFdePaV6BdttKD7C&variant={variant}\")\n",
    "            json_format = response.json()['stops']\n",
    "            \n",
    "            # If the search returns no errors or any empty value\n",
    "            if json_format != []:\n",
    "                \n",
    "                # Recording the information got into a temporary frame df_each_stop_features\n",
    "                df_each_variant_stops = pd.json_normalize(json_format)\n",
    "                df_each_variant_stops['Bus_Variant'] = variant\n",
    "            \n",
    "           \n",
    "            # If the api search returns a blank search, the variant will be recorded in the dataframe with empty values\n",
    "            else:\n",
    "                df_each_variant_stops.loc[len(df_each_variant_stops.index)] = [None, None,None,None,None,None,None,None,None,None,None,None,None,None, None,None, None, f'{variant}']\n",
    "                print(f'Empty row added for variant {variant}')\n",
    "   \n",
    "        # If the api search returns any error, the variant will be recorded in the dataframe with empty values\n",
    "        except:\n",
    "            print(f'{variant} returned error in search. No values found for this variant')\n",
    "            \n",
    "\n",
    "         # Simulatenous concatanetion of each stop's info in df_stop_feature_chunk\n",
    "        # This dataframe will contain records for each chunk of the big 4122 stops list\n",
    "        df_stops_per_chunk = pd.concat([df_stops_per_chunk, df_each_variant_stops], ignore_index=True)\n"
   ]
  },
  {
   "cell_type": "code",
   "execution_count": 42,
   "id": "1dc6fdb2",
   "metadata": {},
   "outputs": [],
   "source": [
    "response = requests.get(f\"https://api.winnipegtransit.com/v3/stops/10064/schedule.json?api-key=wPOIZFdePaV6BdttKD7C\")\n",
    "json_format = response.json()['stop-schedule']\n",
    "df_each_variant_stops = pd.json_normalize(json_format['route-schedules'][0]['scheduled-stops'])"
   ]
  },
  {
   "cell_type": "code",
   "execution_count": 43,
   "id": "b990ae7b",
   "metadata": {},
   "outputs": [
    {
     "data": {
      "text/html": [
       "<div>\n",
       "<style scoped>\n",
       "    .dataframe tbody tr th:only-of-type {\n",
       "        vertical-align: middle;\n",
       "    }\n",
       "\n",
       "    .dataframe tbody tr th {\n",
       "        vertical-align: top;\n",
       "    }\n",
       "\n",
       "    .dataframe thead th {\n",
       "        text-align: right;\n",
       "    }\n",
       "</style>\n",
       "<table border=\"1\" class=\"dataframe\">\n",
       "  <thead>\n",
       "    <tr style=\"text-align: right;\">\n",
       "      <th></th>\n",
       "      <th>key</th>\n",
       "      <th>cancelled</th>\n",
       "      <th>times.arrival.scheduled</th>\n",
       "      <th>times.arrival.estimated</th>\n",
       "      <th>times.departure.scheduled</th>\n",
       "      <th>times.departure.estimated</th>\n",
       "      <th>variant.key</th>\n",
       "      <th>variant.name</th>\n",
       "      <th>bus.key</th>\n",
       "      <th>bus.bike-rack</th>\n",
       "      <th>bus.wifi</th>\n",
       "    </tr>\n",
       "  </thead>\n",
       "  <tbody>\n",
       "    <tr>\n",
       "      <th>0</th>\n",
       "      <td>22722390-21</td>\n",
       "      <td>false</td>\n",
       "      <td>2022-12-18T19:42:47</td>\n",
       "      <td>2022-12-18T19:43:57</td>\n",
       "      <td>2022-12-18T19:42:47</td>\n",
       "      <td>2022-12-18T19:43:57</td>\n",
       "      <td>16-0-B</td>\n",
       "      <td>Selkirk-Osborne to Tyndall Park via Burrows</td>\n",
       "      <td>860</td>\n",
       "      <td>false</td>\n",
       "      <td>false</td>\n",
       "    </tr>\n",
       "    <tr>\n",
       "      <th>1</th>\n",
       "      <td>22722391-23</td>\n",
       "      <td>false</td>\n",
       "      <td>2022-12-18T20:11:47</td>\n",
       "      <td>2022-12-18T20:11:47</td>\n",
       "      <td>2022-12-18T20:11:47</td>\n",
       "      <td>2022-12-18T20:11:47</td>\n",
       "      <td>16-0-M</td>\n",
       "      <td>Selkirk-Osborne to Tyndall Park via Manitoba</td>\n",
       "      <td>300</td>\n",
       "      <td>false</td>\n",
       "      <td>false</td>\n",
       "    </tr>\n",
       "    <tr>\n",
       "      <th>2</th>\n",
       "      <td>22722392-21</td>\n",
       "      <td>false</td>\n",
       "      <td>2022-12-18T20:40:47</td>\n",
       "      <td>2022-12-18T20:40:47</td>\n",
       "      <td>2022-12-18T20:40:47</td>\n",
       "      <td>2022-12-18T20:40:47</td>\n",
       "      <td>16-0-B</td>\n",
       "      <td>Selkirk-Osborne to Tyndall Park via Burrows</td>\n",
       "      <td>187</td>\n",
       "      <td>false</td>\n",
       "      <td>false</td>\n",
       "    </tr>\n",
       "    <tr>\n",
       "      <th>3</th>\n",
       "      <td>22722393-23</td>\n",
       "      <td>false</td>\n",
       "      <td>2022-12-18T21:09:47</td>\n",
       "      <td>2022-12-18T21:09:47</td>\n",
       "      <td>2022-12-18T21:09:47</td>\n",
       "      <td>2022-12-18T21:09:47</td>\n",
       "      <td>16-0-M</td>\n",
       "      <td>Selkirk-Osborne to Tyndall Park via Manitoba</td>\n",
       "      <td>303</td>\n",
       "      <td>false</td>\n",
       "      <td>false</td>\n",
       "    </tr>\n",
       "    <tr>\n",
       "      <th>4</th>\n",
       "      <td>22722394-21</td>\n",
       "      <td>false</td>\n",
       "      <td>2022-12-18T21:37:47</td>\n",
       "      <td>2022-12-18T21:37:47</td>\n",
       "      <td>2022-12-18T21:37:47</td>\n",
       "      <td>2022-12-18T21:37:47</td>\n",
       "      <td>16-0-B</td>\n",
       "      <td>Selkirk-Osborne to Tyndall Park via Burrows</td>\n",
       "      <td>435</td>\n",
       "      <td>true</td>\n",
       "      <td>false</td>\n",
       "    </tr>\n",
       "  </tbody>\n",
       "</table>\n",
       "</div>"
      ],
      "text/plain": [
       "           key cancelled times.arrival.scheduled times.arrival.estimated  \\\n",
       "0  22722390-21     false     2022-12-18T19:42:47     2022-12-18T19:43:57   \n",
       "1  22722391-23     false     2022-12-18T20:11:47     2022-12-18T20:11:47   \n",
       "2  22722392-21     false     2022-12-18T20:40:47     2022-12-18T20:40:47   \n",
       "3  22722393-23     false     2022-12-18T21:09:47     2022-12-18T21:09:47   \n",
       "4  22722394-21     false     2022-12-18T21:37:47     2022-12-18T21:37:47   \n",
       "\n",
       "  times.departure.scheduled times.departure.estimated variant.key  \\\n",
       "0       2022-12-18T19:42:47       2022-12-18T19:43:57      16-0-B   \n",
       "1       2022-12-18T20:11:47       2022-12-18T20:11:47      16-0-M   \n",
       "2       2022-12-18T20:40:47       2022-12-18T20:40:47      16-0-B   \n",
       "3       2022-12-18T21:09:47       2022-12-18T21:09:47      16-0-M   \n",
       "4       2022-12-18T21:37:47       2022-12-18T21:37:47      16-0-B   \n",
       "\n",
       "                                   variant.name  bus.key bus.bike-rack  \\\n",
       "0   Selkirk-Osborne to Tyndall Park via Burrows      860         false   \n",
       "1  Selkirk-Osborne to Tyndall Park via Manitoba      300         false   \n",
       "2   Selkirk-Osborne to Tyndall Park via Burrows      187         false   \n",
       "3  Selkirk-Osborne to Tyndall Park via Manitoba      303         false   \n",
       "4   Selkirk-Osborne to Tyndall Park via Burrows      435          true   \n",
       "\n",
       "  bus.wifi  \n",
       "0    false  \n",
       "1    false  \n",
       "2    false  \n",
       "3    false  \n",
       "4    false  "
      ]
     },
     "execution_count": 43,
     "metadata": {},
     "output_type": "execute_result"
    }
   ],
   "source": [
    "df_each_variant_stops"
   ]
  },
  {
   "cell_type": "code",
   "execution_count": 44,
   "id": "4353c20e",
   "metadata": {},
   "outputs": [
    {
     "data": {
      "text/plain": [
       "[{'route': {'key': 16,\n",
       "   'number': 16,\n",
       "   'name': 'Route 16 Selkirk-Osborne',\n",
       "   'customer-type': 'regular',\n",
       "   'coverage': 'regular',\n",
       "   'badge-label': 16,\n",
       "   'badge-style': {'class-names': {'class-name': ['badge-label', 'regular']},\n",
       "    'background-color': '#ffffff',\n",
       "    'border-color': '#d9d9d9',\n",
       "    'color': '#000000'}},\n",
       "  'scheduled-stops': [{'key': '22722390-21',\n",
       "    'cancelled': 'false',\n",
       "    'times': {'arrival': {'scheduled': '2022-12-18T19:42:47',\n",
       "      'estimated': '2022-12-18T19:43:57'},\n",
       "     'departure': {'scheduled': '2022-12-18T19:42:47',\n",
       "      'estimated': '2022-12-18T19:43:57'}},\n",
       "    'variant': {'key': '16-0-B',\n",
       "     'name': 'Selkirk-Osborne to Tyndall Park via Burrows'},\n",
       "    'bus': {'key': 860, 'bike-rack': 'false', 'wifi': 'false'}},\n",
       "   {'key': '22722391-23',\n",
       "    'cancelled': 'false',\n",
       "    'times': {'arrival': {'scheduled': '2022-12-18T20:11:47',\n",
       "      'estimated': '2022-12-18T20:11:47'},\n",
       "     'departure': {'scheduled': '2022-12-18T20:11:47',\n",
       "      'estimated': '2022-12-18T20:11:47'}},\n",
       "    'variant': {'key': '16-0-M',\n",
       "     'name': 'Selkirk-Osborne to Tyndall Park via Manitoba'},\n",
       "    'bus': {'key': 300, 'bike-rack': 'false', 'wifi': 'false'}},\n",
       "   {'key': '22722392-21',\n",
       "    'cancelled': 'false',\n",
       "    'times': {'arrival': {'scheduled': '2022-12-18T20:40:47',\n",
       "      'estimated': '2022-12-18T20:40:47'},\n",
       "     'departure': {'scheduled': '2022-12-18T20:40:47',\n",
       "      'estimated': '2022-12-18T20:40:47'}},\n",
       "    'variant': {'key': '16-0-B',\n",
       "     'name': 'Selkirk-Osborne to Tyndall Park via Burrows'},\n",
       "    'bus': {'key': 187, 'bike-rack': 'false', 'wifi': 'false'}},\n",
       "   {'key': '22722393-23',\n",
       "    'cancelled': 'false',\n",
       "    'times': {'arrival': {'scheduled': '2022-12-18T21:09:47',\n",
       "      'estimated': '2022-12-18T21:09:47'},\n",
       "     'departure': {'scheduled': '2022-12-18T21:09:47',\n",
       "      'estimated': '2022-12-18T21:09:47'}},\n",
       "    'variant': {'key': '16-0-M',\n",
       "     'name': 'Selkirk-Osborne to Tyndall Park via Manitoba'},\n",
       "    'bus': {'key': 303, 'bike-rack': 'false', 'wifi': 'false'}},\n",
       "   {'key': '22722394-21',\n",
       "    'cancelled': 'false',\n",
       "    'times': {'arrival': {'scheduled': '2022-12-18T21:37:47',\n",
       "      'estimated': '2022-12-18T21:37:47'},\n",
       "     'departure': {'scheduled': '2022-12-18T21:37:47',\n",
       "      'estimated': '2022-12-18T21:37:47'}},\n",
       "    'variant': {'key': '16-0-B',\n",
       "     'name': 'Selkirk-Osborne to Tyndall Park via Burrows'},\n",
       "    'bus': {'key': 435, 'bike-rack': 'true', 'wifi': 'false'}}]}]"
      ]
     },
     "execution_count": 44,
     "metadata": {},
     "output_type": "execute_result"
    }
   ],
   "source": [
    "json_format['route-schedules']"
   ]
  },
  {
   "cell_type": "code",
   "execution_count": 47,
   "id": "965c064e",
   "metadata": {},
   "outputs": [
    {
     "data": {
      "text/plain": [
       "10064"
      ]
     },
     "execution_count": 47,
     "metadata": {},
     "output_type": "execute_result"
    }
   ],
   "source": [
    "json_format['stop']['key']"
   ]
  },
  {
   "cell_type": "code",
   "execution_count": 34,
   "id": "1e44c4bf",
   "metadata": {},
   "outputs": [
    {
     "data": {
      "text/plain": [
       "{'key': 10064,\n",
       " 'name': 'Northbound Osborne at Glasgow',\n",
       " 'number': 10064,\n",
       " 'direction': 'Northbound',\n",
       " 'side': 'Nearside',\n",
       " 'street': {'key': 2715, 'name': 'Osborne Street', 'type': 'Street'},\n",
       " 'cross-street': {'key': 1486, 'name': 'Glasgow Avenue', 'type': 'Avenue'},\n",
       " 'centre': {'utm': {'zone': '14U', 'x': 633838, 'y': 5525742},\n",
       "  'geographic': {'latitude': '49.86912', 'longitude': '-97.1375'}}}"
      ]
     },
     "execution_count": 34,
     "metadata": {},
     "output_type": "execute_result"
    }
   ],
   "source": [
    "json_format['stop']"
   ]
  },
  {
   "cell_type": "code",
   "execution_count": 2,
   "id": "a0cc8e28",
   "metadata": {},
   "outputs": [],
   "source": [
    "df_stops = pd.read_csv('Bus_Stops.csv')"
   ]
  },
  {
   "cell_type": "code",
   "execution_count": 3,
   "id": "84b22186",
   "metadata": {},
   "outputs": [],
   "source": [
    "df_stops.number= df_stops.number.astype('Int64').astype('str')"
   ]
  },
  {
   "cell_type": "code",
   "execution_count": 4,
   "id": "a3d622de",
   "metadata": {},
   "outputs": [],
   "source": [
    "bus_stops = list(set(df_stops.number))"
   ]
  },
  {
   "cell_type": "code",
   "execution_count": 5,
   "id": "f687178e",
   "metadata": {},
   "outputs": [
    {
     "ename": "IndexError",
     "evalue": "list index out of range",
     "output_type": "error",
     "traceback": [
      "\u001b[1;31m---------------------------------------------------------------------------\u001b[0m",
      "\u001b[1;31mIndexError\u001b[0m                                Traceback (most recent call last)",
      "\u001b[1;32mC:\\Users\\AKSHAY~1\\AppData\\Local\\Temp/ipykernel_18476/2339053385.py\u001b[0m in \u001b[0;36m<module>\u001b[1;34m\u001b[0m\n\u001b[0;32m      2\u001b[0m     \u001b[0mresponse\u001b[0m \u001b[1;33m=\u001b[0m \u001b[0mrequests\u001b[0m\u001b[1;33m.\u001b[0m\u001b[0mget\u001b[0m\u001b[1;33m(\u001b[0m\u001b[1;34mf\"https://api.winnipegtransit.com/v3/stops/{stop}/schedule.json?api-key=wPOIZFdePaV6BdttKD7C\"\u001b[0m\u001b[1;33m)\u001b[0m\u001b[1;33m\u001b[0m\u001b[1;33m\u001b[0m\u001b[0m\n\u001b[0;32m      3\u001b[0m     \u001b[0mjson_format\u001b[0m \u001b[1;33m=\u001b[0m \u001b[0mresponse\u001b[0m\u001b[1;33m.\u001b[0m\u001b[0mjson\u001b[0m\u001b[1;33m(\u001b[0m\u001b[1;33m)\u001b[0m\u001b[1;33m[\u001b[0m\u001b[1;34m'stop-schedule'\u001b[0m\u001b[1;33m]\u001b[0m\u001b[1;33m\u001b[0m\u001b[1;33m\u001b[0m\u001b[0m\n\u001b[1;32m----> 4\u001b[1;33m     \u001b[0mdf_each_variant_stops\u001b[0m \u001b[1;33m=\u001b[0m \u001b[0mpd\u001b[0m\u001b[1;33m.\u001b[0m\u001b[0mjson_normalize\u001b[0m\u001b[1;33m(\u001b[0m\u001b[0mjson_format\u001b[0m\u001b[1;33m[\u001b[0m\u001b[1;34m'route-schedules'\u001b[0m\u001b[1;33m]\u001b[0m\u001b[1;33m[\u001b[0m\u001b[1;36m0\u001b[0m\u001b[1;33m]\u001b[0m\u001b[1;33m[\u001b[0m\u001b[1;34m'scheduled-stops'\u001b[0m\u001b[1;33m]\u001b[0m\u001b[1;33m)\u001b[0m\u001b[1;33m\u001b[0m\u001b[1;33m\u001b[0m\u001b[0m\n\u001b[0m\u001b[0;32m      5\u001b[0m \u001b[1;33m\u001b[0m\u001b[0m\n",
      "\u001b[1;31mIndexError\u001b[0m: list index out of range"
     ]
    }
   ],
   "source": [
    "for stop in bus_stops:\n",
    "    response = requests.get(f\"https://api.winnipegtransit.com/v3/stops/{stop}/schedule.json?api-key=wPOIZFdePaV6BdttKD7C\")\n",
    "    json_format = response.json()['stop-schedule']\n",
    "    df_each_variant_stops = pd.json_normalize(json_format['route-schedules'][0]['scheduled-stops'])\n",
    "    "
   ]
  },
  {
   "cell_type": "code",
   "execution_count": 6,
   "id": "1286032e",
   "metadata": {},
   "outputs": [
    {
     "data": {
      "text/html": [
       "<div>\n",
       "<style scoped>\n",
       "    .dataframe tbody tr th:only-of-type {\n",
       "        vertical-align: middle;\n",
       "    }\n",
       "\n",
       "    .dataframe tbody tr th {\n",
       "        vertical-align: top;\n",
       "    }\n",
       "\n",
       "    .dataframe thead th {\n",
       "        text-align: right;\n",
       "    }\n",
       "</style>\n",
       "<table border=\"1\" class=\"dataframe\">\n",
       "  <thead>\n",
       "    <tr style=\"text-align: right;\">\n",
       "      <th></th>\n",
       "      <th>key</th>\n",
       "      <th>cancelled</th>\n",
       "      <th>times.arrival.scheduled</th>\n",
       "      <th>times.arrival.estimated</th>\n",
       "      <th>times.departure.scheduled</th>\n",
       "      <th>times.departure.estimated</th>\n",
       "      <th>variant.key</th>\n",
       "      <th>variant.name</th>\n",
       "      <th>bus.key</th>\n",
       "      <th>bus.bike-rack</th>\n",
       "      <th>bus.wifi</th>\n",
       "    </tr>\n",
       "  </thead>\n",
       "  <tbody>\n",
       "    <tr>\n",
       "      <th>0</th>\n",
       "      <td>22722914-7</td>\n",
       "      <td>false</td>\n",
       "      <td>2022-12-26T10:33:36</td>\n",
       "      <td>2022-12-26T10:33:36</td>\n",
       "      <td>2022-12-26T10:33:36</td>\n",
       "      <td>2022-12-26T10:33:36</td>\n",
       "      <td>10-1-WT</td>\n",
       "      <td>St. Boniface-Wolseley to Wolseley via Tache</td>\n",
       "      <td>171</td>\n",
       "      <td>false</td>\n",
       "      <td>false</td>\n",
       "    </tr>\n",
       "    <tr>\n",
       "      <th>1</th>\n",
       "      <td>22722915-7</td>\n",
       "      <td>false</td>\n",
       "      <td>2022-12-26T11:34:36</td>\n",
       "      <td>2022-12-26T11:34:36</td>\n",
       "      <td>2022-12-26T11:34:36</td>\n",
       "      <td>2022-12-26T11:34:36</td>\n",
       "      <td>10-1-WT</td>\n",
       "      <td>St. Boniface-Wolseley to Wolseley via Tache</td>\n",
       "      <td>171</td>\n",
       "      <td>false</td>\n",
       "      <td>false</td>\n",
       "    </tr>\n",
       "  </tbody>\n",
       "</table>\n",
       "</div>"
      ],
      "text/plain": [
       "          key cancelled times.arrival.scheduled times.arrival.estimated  \\\n",
       "0  22722914-7     false     2022-12-26T10:33:36     2022-12-26T10:33:36   \n",
       "1  22722915-7     false     2022-12-26T11:34:36     2022-12-26T11:34:36   \n",
       "\n",
       "  times.departure.scheduled times.departure.estimated variant.key  \\\n",
       "0       2022-12-26T10:33:36       2022-12-26T10:33:36     10-1-WT   \n",
       "1       2022-12-26T11:34:36       2022-12-26T11:34:36     10-1-WT   \n",
       "\n",
       "                                  variant.name  bus.key bus.bike-rack bus.wifi  \n",
       "0  St. Boniface-Wolseley to Wolseley via Tache      171         false    false  \n",
       "1  St. Boniface-Wolseley to Wolseley via Tache      171         false    false  "
      ]
     },
     "execution_count": 6,
     "metadata": {},
     "output_type": "execute_result"
    }
   ],
   "source": [
    "df_each_variant_stops"
   ]
  },
  {
   "cell_type": "code",
   "execution_count": 69,
   "id": "568ca5ed",
   "metadata": {},
   "outputs": [
    {
     "data": {
      "text/plain": [
       "false    6\n",
       "Name: cancelled, dtype: int64"
      ]
     },
     "execution_count": 69,
     "metadata": {},
     "output_type": "execute_result"
    }
   ],
   "source": [
    "df_each_variant_stops.cancelled.value_counts()"
   ]
  },
  {
   "cell_type": "code",
   "execution_count": 7,
   "id": "27882d71",
   "metadata": {},
   "outputs": [
    {
     "data": {
      "text/plain": [
       "'20306'"
      ]
     },
     "execution_count": 7,
     "metadata": {},
     "output_type": "execute_result"
    }
   ],
   "source": [
    "stop"
   ]
  },
  {
   "cell_type": "code",
   "execution_count": 8,
   "id": "7bc2cd3d",
   "metadata": {},
   "outputs": [
    {
     "ename": "IndexError",
     "evalue": "list index out of range",
     "output_type": "error",
     "traceback": [
      "\u001b[1;31m---------------------------------------------------------------------------\u001b[0m",
      "\u001b[1;31mIndexError\u001b[0m                                Traceback (most recent call last)",
      "\u001b[1;32mC:\\Users\\AKSHAY~1\\AppData\\Local\\Temp/ipykernel_18476/560883857.py\u001b[0m in \u001b[0;36m<module>\u001b[1;34m\u001b[0m\n\u001b[0;32m      1\u001b[0m \u001b[0mresponse\u001b[0m \u001b[1;33m=\u001b[0m \u001b[0mrequests\u001b[0m\u001b[1;33m.\u001b[0m\u001b[0mget\u001b[0m\u001b[1;33m(\u001b[0m\u001b[1;34mf\"https://api.winnipegtransit.com/v3/stops/{stop}/schedule.json?api-key=wPOIZFdePaV6BdttKD7C\"\u001b[0m\u001b[1;33m)\u001b[0m\u001b[1;33m\u001b[0m\u001b[1;33m\u001b[0m\u001b[0m\n\u001b[0;32m      2\u001b[0m \u001b[0mjson_format\u001b[0m \u001b[1;33m=\u001b[0m \u001b[0mresponse\u001b[0m\u001b[1;33m.\u001b[0m\u001b[0mjson\u001b[0m\u001b[1;33m(\u001b[0m\u001b[1;33m)\u001b[0m\u001b[1;33m[\u001b[0m\u001b[1;34m'stop-schedule'\u001b[0m\u001b[1;33m]\u001b[0m\u001b[1;33m\u001b[0m\u001b[1;33m\u001b[0m\u001b[0m\n\u001b[1;32m----> 3\u001b[1;33m \u001b[0mdf_each_variant_stops\u001b[0m \u001b[1;33m=\u001b[0m \u001b[0mpd\u001b[0m\u001b[1;33m.\u001b[0m\u001b[0mjson_normalize\u001b[0m\u001b[1;33m(\u001b[0m\u001b[0mjson_format\u001b[0m\u001b[1;33m[\u001b[0m\u001b[1;34m'route-schedules'\u001b[0m\u001b[1;33m]\u001b[0m\u001b[1;33m[\u001b[0m\u001b[1;36m0\u001b[0m\u001b[1;33m]\u001b[0m\u001b[1;33m[\u001b[0m\u001b[1;34m'scheduled-stops'\u001b[0m\u001b[1;33m]\u001b[0m\u001b[1;33m)\u001b[0m\u001b[1;33m\u001b[0m\u001b[1;33m\u001b[0m\u001b[0m\n\u001b[0m",
      "\u001b[1;31mIndexError\u001b[0m: list index out of range"
     ]
    }
   ],
   "source": [
    "response = requests.get(f\"https://api.winnipegtransit.com/v3/stops/{stop}/schedule.json?api-key=wPOIZFdePaV6BdttKD7C\")\n",
    "json_format = response.json()['stop-schedule']\n",
    "df_each_variant_stops = pd.json_normalize(json_format['route-schedules'][0]['scheduled-stops'])"
   ]
  },
  {
   "cell_type": "code",
   "execution_count": 9,
   "id": "acc22d8b",
   "metadata": {},
   "outputs": [
    {
     "data": {
      "text/plain": [
       "{'stop': {'key': 20306,\n",
       "  'name': 'Eastbound Hamilton at Sonnichsen',\n",
       "  'number': 20306,\n",
       "  'direction': 'Eastbound',\n",
       "  'side': 'Nearside Opposite',\n",
       "  'street': {'key': 1617, 'name': 'Hamilton Avenue', 'type': 'Avenue'},\n",
       "  'cross-street': {'key': 3383, 'name': 'Sonnichsen Place', 'type': 'Place'},\n",
       "  'centre': {'utm': {'zone': '14U', 'x': 622970, 'y': 5528710},\n",
       "   'geographic': {'latitude': '49.89813', 'longitude': '-97.28772'}}},\n",
       " 'route-schedules': []}"
      ]
     },
     "execution_count": 9,
     "metadata": {},
     "output_type": "execute_result"
    }
   ],
   "source": [
    "json_format"
   ]
  },
  {
   "cell_type": "code",
   "execution_count": 13,
   "id": "c9752b33",
   "metadata": {},
   "outputs": [
    {
     "data": {
      "text/plain": [
       "False"
      ]
     },
     "execution_count": 13,
     "metadata": {},
     "output_type": "execute_result"
    }
   ],
   "source": [
    "json_format['route-schedules'] == {}"
   ]
  },
  {
   "cell_type": "code",
   "execution_count": null,
   "id": "19fd0ee8",
   "metadata": {},
   "outputs": [],
   "source": []
  }
 ],
 "metadata": {
  "kernelspec": {
   "display_name": "Python 3 (ipykernel)",
   "language": "python",
   "name": "python3"
  },
  "language_info": {
   "codemirror_mode": {
    "name": "ipython",
    "version": 3
   },
   "file_extension": ".py",
   "mimetype": "text/x-python",
   "name": "python",
   "nbconvert_exporter": "python",
   "pygments_lexer": "ipython3",
   "version": "3.9.7"
  }
 },
 "nbformat": 4,
 "nbformat_minor": 5
}
